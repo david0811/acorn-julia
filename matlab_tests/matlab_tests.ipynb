{
 "cells": [
  {
   "cell_type": "code",
   "execution_count": 1,
   "metadata": {},
   "outputs": [],
   "source": [
    "include(\"../src/dcopf.jl\");"
   ]
  },
  {
   "cell_type": "code",
   "execution_count": null,
   "metadata": {},
   "outputs": [],
   "source": [
    "scenario = 11\n",
    "gen_prop_name = \"vivienne_2050\"\n",
    "bus_prop_name = \"vivienne_2050\"\n",
    "branch_prop_name = \"vivienne_2050\"\n",
    "out_path = \"./out/Scenario$(scenario)/\";\n",
    "\n",
    "for year in 1998:2019\n",
    "    println(\"Running scenario $(scenario) for year $(year)\")\n",
    "    run_model(scenario, year, gen_prop_name, branch_prop_name, bus_prop_name, out_path)\n",
    "end"
   ]
  },
  {
   "cell_type": "code",
   "execution_count": null,
   "metadata": {},
   "outputs": [],
   "source": []
  }
 ],
 "metadata": {
  "kernelspec": {
   "display_name": "Julia 1.11.3",
   "language": "julia",
   "name": "julia-1.11"
  },
  "language_info": {
   "file_extension": ".jl",
   "mimetype": "application/julia",
   "name": "julia",
   "version": "1.11.3"
  }
 },
 "nbformat": 4,
 "nbformat_minor": 2
}
