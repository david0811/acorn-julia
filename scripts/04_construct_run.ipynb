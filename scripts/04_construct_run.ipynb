{
 "cells": [
  {
   "cell_type": "code",
   "execution_count": 1,
   "id": "fe39d20b-1729-479f-adc2-15b4617d480e",
   "metadata": {},
   "outputs": [],
   "source": [
    "import os\n",
    "from glob import glob\n",
    "from pathlib import Path\n",
    "import numpy as np\n",
    "import pandas as pd\n",
    "import geopandas as gpd\n",
    "\n",
    "import matplotlib.pyplot as plt\n",
    "\n",
    "from python import prepare_inputs as pi\n",
    "from python import solar_utils as su\n",
    "from python import wind_utils as wu\n",
    "from python import hydro_utils as hu\n",
    "from python import utils as pu\n",
    "\n",
    "from python.utils import project_path\n",
    "from python.building_elec_model import building_types_dict"
   ]
  },
  {
   "cell_type": "markdown",
   "id": "36c0af5d-5400-4212-a956-c461a2841298",
   "metadata": {},
   "source": [
    "# Input data for a run"
   ]
  },
  {
   "cell_type": "code",
   "execution_count": 2,
   "id": "cd918ab6-6dbd-42f6-8a61-6e5edf31a076",
   "metadata": {},
   "outputs": [],
   "source": [
    "# Read GenX\n",
    "df_genX = pd.read_csv(f'{project_path}/data/genX/capacity_Low_RE_High_Elec.csv')\n",
    "df_genX = pi.tidy_genX(df_genX).query('EndCap > 1.')"
   ]
  },
  {
   "cell_type": "code",
   "execution_count": 3,
   "id": "506f9bb4-c15b-43c5-81f6-a0a620f3dca1",
   "metadata": {},
   "outputs": [
    {
     "data": {
      "text/plain": [
       "Resource\n",
       "battery                    5999.830098\n",
       "biomass                     113.100000\n",
       "distributed_generation     2553.999939\n",
       "hydroelectric              4357.000000\n",
       "hydroelectric_storage      1406.700000\n",
       "natural_gas               16458.799831\n",
       "nuclear                    2699.998583\n",
       "offshore_wind              5737.998789\n",
       "onshore_wind_existing      3388.999992\n",
       "solar_existing             1706.399995\n",
       "solar_new                 23133.293921\n",
       "transportation             3407.100000\n",
       "water_heating               139.100000\n",
       "Name: EndCap, dtype: float64"
      ]
     },
     "execution_count": 3,
     "metadata": {},
     "output_type": "execute_result"
    }
   ],
   "source": [
    "df_genX.groupby('Resource')['EndCap'].sum()"
   ]
  },
  {
   "cell_type": "code",
   "execution_count": 4,
   "id": "e6866708-79b2-4e2a-a7e2-67b44355c637",
   "metadata": {},
   "outputs": [
    {
     "data": {
      "text/plain": [
       "np.float64(71102.32114817739)"
      ]
     },
     "execution_count": 4,
     "metadata": {},
     "output_type": "execute_result"
    }
   ],
   "source": [
    "df_genX.groupby('Resource')['EndCap'].sum().sum()"
   ]
  },
  {
   "cell_type": "code",
   "execution_count": 5,
   "id": "b939f72a-62aa-4dd3-b736-27ec79955efb",
   "metadata": {},
   "outputs": [
    {
     "data": {
      "text/plain": [
       "Resource\n",
       "battery                       0.0\n",
       "biomass                       0.0\n",
       "distributed_generation        0.0\n",
       "hydroelectric                 0.0\n",
       "hydroelectric_storage     21803.8\n",
       "natural_gas                   0.0\n",
       "nuclear                       0.0\n",
       "offshore_wind                 0.0\n",
       "onshore_wind_existing         0.0\n",
       "solar_existing                0.0\n",
       "solar_new                     0.0\n",
       "transportation                0.0\n",
       "water_heating                 0.0\n",
       "Name: StartEnergyCap, dtype: float64"
      ]
     },
     "execution_count": 5,
     "metadata": {},
     "output_type": "execute_result"
    }
   ],
   "source": [
    "df_genX.groupby('Resource')['StartEnergyCap'].sum()"
   ]
  },
  {
   "cell_type": "code",
   "execution_count": 6,
   "id": "b18e0f8c-d19a-4c06-bf5b-a86cc3af65dd",
   "metadata": {},
   "outputs": [
    {
     "data": {
      "text/plain": [
       "Resource_Type\n",
       "Utility_PV    23133.29392\n",
       "Name: EndCap, dtype: float64"
      ]
     },
     "execution_count": 6,
     "metadata": {},
     "output_type": "execute_result"
    }
   ],
   "source": [
    "# Read GenX downscaled\n",
    "df_genX_ds = pd.read_csv(f'{project_path}/data/genX/selected_CPA_Combined_Capacity_Low_RE_High_Elec.csv')\n",
    "\n",
    "df_genX_ds = (df_genX_ds[(df_genX_ds['state'] == 'New York') & (df_genX_ds['iter'] == 0)]\n",
    "              .drop_duplicates(subset=['Resource', 'Zone'], keep='first')\n",
    "              .query('EndCap > 1.')\n",
    "             )\n",
    "\n",
    "df_genX_ds.groupby('Resource_Type')['EndCap'].sum()"
   ]
  },
  {
   "cell_type": "code",
   "execution_count": 7,
   "id": "46483b7c-3cd1-48c2-a037-78db5dfd452a",
   "metadata": {},
   "outputs": [],
   "source": [
    "# Run name (make sure matches above!)\n",
    "run_name = \"low_RE_high_elec_iter0_defaultsubset\"\n",
    "\n",
    "run_path = f\"{project_path}/runs/{run_name}\"\n",
    "\n",
    "Path(f\"{run_path}/inputs\").mkdir(parents=True, exist_ok=True)\n",
    "Path(f\"{run_path}/outputs\").mkdir(parents=True, exist_ok=True)"
   ]
  },
  {
   "cell_type": "code",
   "execution_count": 8,
   "id": "c92756c6-353c-420f-8df4-c92c25ca8f94",
   "metadata": {},
   "outputs": [],
   "source": [
    "# Read ACORN generators\n",
    "df_genprop_bo = pd.read_csv(f'{project_path}/data/grid/gen_prop_boyuan.csv')\n",
    "df_gencost_bo = pd.read_csv(f'{project_path}/data/grid/gencost_prop_boyuan.csv')\n",
    "\n",
    "# Merge costs and info\n",
    "df_genprop = pd.merge(df_gencost_bo, df_genprop_bo)\n",
    "\n",
    "# Select NYS only\n",
    "df_genprop = df_genprop[df_genprop['GEN_ZONE'].isin(pu.zone_names)]"
   ]
  },
  {
   "cell_type": "markdown",
   "id": "7e26f2c6-a6a6-4fac-b704-01001acfc66e",
   "metadata": {},
   "source": [
    "### Storage"
   ]
  },
  {
   "cell_type": "code",
   "execution_count": 9,
   "id": "5cef651a-0ebc-481d-9027-2afd3f94bb63",
   "metadata": {},
   "outputs": [],
   "source": [
    "# Generate random sites per zone\n",
    "df_genX_battery = pu.map_genX_zones_to_nyiso(df_genX[df_genX['Resource'] == 'battery'].copy(), genX_zone_col='Zone')\n",
    "df_genX_battery = pi.generate_random_sites(df_genX_battery,\n",
    "                                           sites_per_zone = 3,\n",
    "                                           columns_to_scale = ['EndEnergyCap', 'EndCap'])"
   ]
  },
  {
   "cell_type": "code",
   "execution_count": 10,
   "id": "e1b361d0-0ef6-4a0a-84a6-981aebccd78e",
   "metadata": {},
   "outputs": [],
   "source": [
    "# Assign to random bus\n",
    "df_genX_battery = pu.nearest_neighbor_lat_lon(df_genX_battery, PV_bus_only=False)"
   ]
  },
  {
   "cell_type": "code",
   "execution_count": 11,
   "id": "ddda188a-88e3-4035-a481-ee2182a87f5f",
   "metadata": {},
   "outputs": [],
   "source": [
    "# Store\n",
    "(\n",
    "    df_genX_battery[['bus_id', 'EndCap', 'EndEnergyCap']]\n",
    "    .groupby('bus_id').sum()\n",
    "     .rename(columns={'EndCap':'charge_capacity_MW', \n",
    "                      'EndEnergyCap':'storage_capacity_mwh'})\n",
    "     .to_csv(f\"{run_path}/inputs/storage_assignment.csv\")\n",
    ")"
   ]
  },
  {
   "cell_type": "markdown",
   "id": "82d438ff-415f-43bb-8ba3-d57cc29aaf50",
   "metadata": {},
   "source": [
    "### Thermal"
   ]
  },
  {
   "cell_type": "code",
   "execution_count": 12,
   "id": "949e2084-0d0a-46ec-9ed9-5ceacb515241",
   "metadata": {},
   "outputs": [
    {
     "name": "stdout",
     "output_type": "stream",
     "text": [
      "Starting capacity matching process...\n",
      "\n",
      "Capacity comparison:\n",
      "Zone | Current (MW) | Target (MW) | Difference (MW)\n",
      "-------------------------------------------------------\n",
      "A    |       393.0 |      536.8 |         143.8\n",
      "Zone A: Added 4 duplicate generators, increasing capacity by 189.0 MW (target: 143.8 MW)\n",
      "B    |       109.0 |      269.1 |         160.1\n",
      "Zone B: Added 3 duplicate generators, increasing capacity by 198.0 MW (target: 160.1 MW)\n",
      "C    |      1709.0 |     1672.9 |         -36.1\n",
      "Zone C: Retired 1 generators, reducing capacity by 110.0 MW (target: 36.1 MW)\n",
      "D    |       346.0 |      371.0 |          25.0\n",
      "Zone D: Added 1 duplicate generators, increasing capacity by 153.0 MW (target: 25.0 MW)\n",
      "E    |       206.0 |      201.6 |          -4.4\n",
      "Zone E: Retired 1 generators, reducing capacity by 45.0 MW (target: 4.4 MW)\n",
      "F    |      3159.0 |     3797.5 |         638.5\n",
      "Zone F: Added 2 duplicate generators, increasing capacity by 711.0 MW (target: 638.5 MW)\n",
      "G    |      1761.0 |     2015.0 |         254.0\n",
      "Zone G: Added 1 duplicate generators, increasing capacity by 582.0 MW (target: 254.0 MW)\n",
      "H    |         0.0 |        0.0 |           0.0\n",
      "I    |         0.0 |        0.0 |           0.0\n",
      "J    |      6487.0 |     5978.2 |        -508.8\n",
      "Zone J: Retired 11 generators, reducing capacity by 518.0 MW (target: 508.8 MW)\n",
      "K    |      3652.0 |     1616.7 |       -2035.3\n",
      "Zone K: Retired 24 generators, reducing capacity by 2302.0 MW (target: 2035.3 MW)\n",
      "\n",
      "============================================================\n",
      "VALIDATION RESULTS\n",
      "============================================================\n",
      "Zone | Original (MW) | Target (MW) | Final (MW) | Error (MW)\n",
      "-----------------------------------------------------------------\n",
      "A    |        393.0 |      536.8 |     582.0 |      45.2\n",
      "B    |        109.0 |      269.1 |     307.0 |      37.9\n",
      "C    |       1709.0 |     1672.9 |    1599.0 |     -73.9\n",
      "D    |        346.0 |      371.0 |     499.0 |     128.0\n",
      "E    |        206.0 |      201.6 |     161.0 |     -40.6\n",
      "F    |       3159.0 |     3797.5 |    3870.0 |      72.5\n",
      "G    |       1761.0 |     2015.0 |    2343.0 |     328.0\n",
      "H    |          0.0 |        0.0 |       0.0 |       0.0\n",
      "I    |          0.0 |        0.0 |       0.0 |       0.0\n",
      "J    |       6487.0 |     5978.2 |    5969.0 |      -9.2\n",
      "K    |       3652.0 |     1616.7 |    1350.0 |    -266.7\n"
     ]
    }
   ],
   "source": [
    "# Match thermal capacities (natural gas only)\n",
    "df_ng_matched = pi.match_ng_capacity(df_genX,\n",
    "                                     df_genprop,\n",
    "                                     store_path = run_path,\n",
    "                                     retirement_method='highest_cost_first')"
   ]
  },
  {
   "cell_type": "code",
   "execution_count": 13,
   "id": "470fdbdf-6f59-4b15-b097-94caf2da9a39",
   "metadata": {},
   "outputs": [],
   "source": [
    "# Store with only online generators\n",
    "df_ng_matched = df_ng_matched[df_ng_matched['GEN_STATUS'] == 1].copy()\n",
    "df_ng_matched.to_csv(f\"{run_path}/inputs/genprop_ng_matched.csv\", index=False)"
   ]
  },
  {
   "cell_type": "markdown",
   "id": "5dd7dbbe-1b9e-4cfd-b77b-50bdd05a4b9a",
   "metadata": {},
   "source": [
    "### Nuclear"
   ]
  },
  {
   "cell_type": "code",
   "execution_count": 14,
   "id": "55254b51-f6bc-4916-ae8d-d903c4e85eb9",
   "metadata": {},
   "outputs": [
    {
     "data": {
      "text/html": [
       "<div>\n",
       "<style scoped>\n",
       "    .dataframe tbody tr th:only-of-type {\n",
       "        vertical-align: middle;\n",
       "    }\n",
       "\n",
       "    .dataframe tbody tr th {\n",
       "        vertical-align: top;\n",
       "    }\n",
       "\n",
       "    .dataframe thead th {\n",
       "        text-align: right;\n",
       "    }\n",
       "</style>\n",
       "<table border=\"1\" class=\"dataframe\">\n",
       "  <thead>\n",
       "    <tr style=\"text-align: right;\">\n",
       "      <th></th>\n",
       "      <th>Resource</th>\n",
       "      <th>Zone</th>\n",
       "      <th>EndCap</th>\n",
       "    </tr>\n",
       "  </thead>\n",
       "  <tbody>\n",
       "    <tr>\n",
       "      <th>178</th>\n",
       "      <td>nuclear</td>\n",
       "      <td>C&amp;E</td>\n",
       "      <td>2699.998583</td>\n",
       "    </tr>\n",
       "  </tbody>\n",
       "</table>\n",
       "</div>"
      ],
      "text/plain": [
       "    Resource Zone       EndCap\n",
       "178  nuclear  C&E  2699.998583"
      ]
     },
     "execution_count": 14,
     "metadata": {},
     "output_type": "execute_result"
    }
   ],
   "source": [
    "# GenX\n",
    "df_genX.query('Resource == \"nuclear\"')[['Resource', 'Zone', 'EndCap']]"
   ]
  },
  {
   "cell_type": "code",
   "execution_count": 15,
   "id": "4e1da9d6-ced7-4977-b62d-f63726b7cb24",
   "metadata": {},
   "outputs": [
    {
     "data": {
      "text/html": [
       "<div>\n",
       "<style scoped>\n",
       "    .dataframe tbody tr th:only-of-type {\n",
       "        vertical-align: middle;\n",
       "    }\n",
       "\n",
       "    .dataframe tbody tr th {\n",
       "        vertical-align: top;\n",
       "    }\n",
       "\n",
       "    .dataframe thead th {\n",
       "        text-align: right;\n",
       "    }\n",
       "</style>\n",
       "<table border=\"1\" class=\"dataframe\">\n",
       "  <thead>\n",
       "    <tr style=\"text-align: right;\">\n",
       "      <th></th>\n",
       "      <th>GEN_NAME</th>\n",
       "      <th>PMAX</th>\n",
       "      <th>GEN_ZONE</th>\n",
       "      <th>GEN_STATUS</th>\n",
       "    </tr>\n",
       "  </thead>\n",
       "  <tbody>\n",
       "    <tr>\n",
       "      <th>236</th>\n",
       "      <td>Indian Point 2</td>\n",
       "      <td>1026.5</td>\n",
       "      <td>H</td>\n",
       "      <td>1</td>\n",
       "    </tr>\n",
       "    <tr>\n",
       "      <th>237</th>\n",
       "      <td>Indian Point 3</td>\n",
       "      <td>1040.4</td>\n",
       "      <td>H</td>\n",
       "      <td>1</td>\n",
       "    </tr>\n",
       "    <tr>\n",
       "      <th>238</th>\n",
       "      <td>James A. FitzPatrick</td>\n",
       "      <td>858.9</td>\n",
       "      <td>C</td>\n",
       "      <td>1</td>\n",
       "    </tr>\n",
       "    <tr>\n",
       "      <th>239</th>\n",
       "      <td>Nine Mile Point 1</td>\n",
       "      <td>630.5</td>\n",
       "      <td>C</td>\n",
       "      <td>1</td>\n",
       "    </tr>\n",
       "    <tr>\n",
       "      <th>240</th>\n",
       "      <td>Nine Mile Point 2</td>\n",
       "      <td>1246.6</td>\n",
       "      <td>C</td>\n",
       "      <td>1</td>\n",
       "    </tr>\n",
       "    <tr>\n",
       "      <th>241</th>\n",
       "      <td>R. E. Ginna</td>\n",
       "      <td>582.0</td>\n",
       "      <td>B</td>\n",
       "      <td>1</td>\n",
       "    </tr>\n",
       "  </tbody>\n",
       "</table>\n",
       "</div>"
      ],
      "text/plain": [
       "                 GEN_NAME    PMAX GEN_ZONE  GEN_STATUS\n",
       "236        Indian Point 2  1026.5        H           1\n",
       "237        Indian Point 3  1040.4        H           1\n",
       "238  James A. FitzPatrick   858.9        C           1\n",
       "239     Nine Mile Point 1   630.5        C           1\n",
       "240     Nine Mile Point 2  1246.6        C           1\n",
       "241           R. E. Ginna   582.0        B           1"
      ]
     },
     "execution_count": 15,
     "metadata": {},
     "output_type": "execute_result"
    }
   ],
   "source": [
    "# ACORN\n",
    "df_genprop[df_genprop['FUEL_TYPE'] == 'UR'][['GEN_NAME', 'PMAX', 'GEN_ZONE', 'GEN_STATUS']]"
   ]
  },
  {
   "cell_type": "code",
   "execution_count": 16,
   "id": "b31e2f8f-38ce-48ad-8330-306b41515321",
   "metadata": {},
   "outputs": [],
   "source": [
    "# Match nuclear by hand -> keep only nuclear in zone C\n",
    "# Retire all nuclear outside zone C\n",
    "df_genprop_nuclear = df_genprop[(df_genprop['FUEL_TYPE'] == 'UR') & (df_genprop['GEN_ZONE'] == 'C')]\n",
    "# Store\n",
    "df_genprop_nuclear.to_csv(f\"{run_path}/inputs/genprop_nuclear_matched.csv\", index=False)"
   ]
  },
  {
   "cell_type": "markdown",
   "id": "fbfb2cc0-702c-4cdb-9401-c924c985d46c",
   "metadata": {},
   "source": [
    "### Hydro"
   ]
  },
  {
   "cell_type": "code",
   "execution_count": 17,
   "id": "9b9a032d-edc6-4733-b10e-04dde0679001",
   "metadata": {},
   "outputs": [],
   "source": [
    "# First store the hydro generators\n",
    "large_hydro_names = ['Moses Niagara (Fleet)', 'St Lawrence - FDR (Fleet)']\n",
    "\n",
    "df_genprop_hydro = df_genprop[df_genprop['GEN_NAME'].isin(large_hydro_names)]\n",
    "df_genprop_hydro.to_csv(f\"{run_path}/inputs/genprop_hydro.csv\", index=False)"
   ]
  },
  {
   "cell_type": "code",
   "execution_count": 18,
   "id": "d6d8267b-40ec-4e95-9b42-cfc687a8130c",
   "metadata": {},
   "outputs": [],
   "source": [
    "# Get hourly hydro to buses\n",
    "hydro_scenario = 'historical'\n",
    "df_small_hydro, df_large_hydro = hu.assign_hydro_GD_to_buses(hydro_scenario = hydro_scenario)"
   ]
  },
  {
   "cell_type": "code",
   "execution_count": 19,
   "id": "1b88f352-f95f-4434-9e64-c5dd248a2dc4",
   "metadata": {},
   "outputs": [],
   "source": [
    "# Store\n",
    "df_small_hydro.reset_index().pivot(index='bus_id', \n",
    "                                   columns='datetime', \n",
    "                                   values='power_MW').to_csv(f\"{run_path}/inputs/small_hydro_{hydro_scenario}.csv\")\n",
    "\n",
    "df_large_hydro.reset_index().pivot(index='bus_id', \n",
    "                                   columns='datetime', \n",
    "                                   values='power_predicted_mwh').to_csv(f\"{run_path}/inputs/large_hydro_{hydro_scenario}.csv\")"
   ]
  },
  {
   "cell_type": "markdown",
   "id": "53094e73-22a1-424d-aa3c-90e53c43de80",
   "metadata": {},
   "source": [
    "### Solar"
   ]
  },
  {
   "cell_type": "code",
   "execution_count": null,
   "id": "a63105a8-ff14-4319-8087-356daa98b3b1",
   "metadata": {},
   "outputs": [],
   "source": [
    "#######################\n",
    "# Existing solar: DPV\n",
    "#######################\n",
    "# Generate existing onshore sites\n",
    "df_genX_solar_dpv = pu.map_genX_zones_to_nyiso(df_genX[df_genX['Resource'] == 'distributed_generation'].copy(),\n",
    "                                               genX_zone_col='Zone')\n",
    "\n",
    "df_genX_solar_dpv = pi.generate_random_sites(df_genX_solar_dpv, sites_per_zone=10)\n",
    "\n",
    "## TGW climate data\n",
    "climate_scenario = \"historical_1980_2019\"\n",
    "\n",
    "# All\n",
    "climate_paths = np.sort(glob(f\"{pu.tgw_path}/{climate_scenario}/hourly/tgw_wrf_historical_hourly_*.nc\"))\n",
    "\n",
    "# # Subset\n",
    "# climate_paths = np.sort([glob(f\"{pu.tgw_path}/{climate_scenario}/hourly/tgw_wrf_historical_hourly_{year}*.nc\") \n",
    "#                           for year in range(1982, 1983)]).flatten()\n",
    "\n",
    "# Correction factors\n",
    "correction_file = f\"{project_path}/data/solar/models/tgw_solar_correction_factors.csv\"\n",
    "\n",
    "# Calculate the timeseries\n",
    "df_solar_dpv = su.calculate_solar_timeseries_from_genX(\n",
    "    df_genX = df_genX_solar_dpv,\n",
    "    climate_paths = climate_paths,\n",
    "    correction_file = correction_file,\n",
    "    PV_bus_only = False\n",
    ")\n",
    "\n",
    "# Store\n",
    "df_solar_dpv.reset_index().pivot(index='bus_id', \n",
    "                             columns='datetime', \n",
    "                             values='power_MW').to_csv(f\"{run_path}/inputs/solar_dpv_{climate_scenario}.csv\")"
   ]
  },
  {
   "cell_type": "code",
   "execution_count": null,
   "id": "4842a2cf-5a06-4814-a989-7f1aa1f97370",
   "metadata": {},
   "outputs": [],
   "source": [
    "######################\n",
    "# Existing solar: UPV\n",
    "######################\n",
    "# Generate existing sites\n",
    "df_genX_solar_existing = pu.map_genX_zones_to_nyiso(df_genX[df_genX['Resource'] == 'solar_existing'].copy(),\n",
    "                                                   genX_zone_col='Zone')\n",
    "\n",
    "df_genX_solar_existing = pi.generate_random_sites(df_genX_solar_existing, sites_per_zone=1)\n",
    "\n",
    "# TGW climate data\n",
    "climate_scenario = \"historical_1980_2019\"\n",
    "\n",
    "# All\n",
    "climate_paths = np.sort(glob(f\"{pu.tgw_path}/{climate_scenario}/hourly/tgw_wrf_historical_hourly_*.nc\"))\n",
    "\n",
    "# # Subset\n",
    "# climate_paths = np.sort([glob(f\"{pu.tgw_path}/{climate_scenario}/hourly/tgw_wrf_historical_hourly_{year}*.nc\") \n",
    "#                           for year in range(1982, 1983)]).flatten()\n",
    "\n",
    "# Correction factors\n",
    "correction_file = f\"{project_path}/data/solar/models/tgw_solar_correction_factors.csv\"\n",
    "\n",
    "# Calculate the timeseries\n",
    "df_solar_existing = su.calculate_solar_timeseries_from_genX(\n",
    "    df_genX = df_genX_solar_existing,\n",
    "    climate_paths = climate_paths,\n",
    "    correction_file = correction_file,\n",
    ")"
   ]
  },
  {
   "cell_type": "code",
   "execution_count": null,
   "id": "5f2aa601-6a76-4664-8de0-623d931c6e4a",
   "metadata": {},
   "outputs": [],
   "source": [
    "################################################################\n",
    "# NOTE: The genX zones do not always align with their coordinates\n",
    "# (i.e. they will be assigned to a different zone).\n",
    "# When aggregating to bus level, assigning `match_zone` = True\n",
    "# means that genX zones will be respected. `match_zone` = False\n",
    "# means it will use the lat/lon coords instead.\n",
    "################################################################\n",
    "# Read NYISO shapefile\n",
    "nyiso_gdf = gpd.read_file(f'{project_path}/data/nyiso/gis/NYISO_Load_Zone_Dissolved.shp')\n",
    "\n",
    "# Plot\n",
    "fig, axs = plt.subplots(1,2, figsize=(15,10))\n",
    "\n",
    "nyiso_gdf.plot(ax=axs[0])\n",
    "pu.merge_to_zones(df_genX_ds[df_genX_ds['Resource_Type'] == 'Utility_PV'],\n",
    "               lat_name='latitude',\n",
    "               lon_name='longitude').plot(ax=axs[0], column='region', legend=True, cmap='Paired')\n",
    "\n",
    "nyiso_gdf.plot(ax=axs[1], column='zone', legend=True, cmap='Paired')\n",
    "\n",
    "plt.show()"
   ]
  },
  {
   "cell_type": "code",
   "execution_count": null,
   "id": "de892833-d249-408f-8f43-231278570541",
   "metadata": {},
   "outputs": [],
   "source": [
    "####################\n",
    "# New solar\n",
    "####################\n",
    "# Update the genX regions\n",
    "df_genX_ds_solar = df_genX_ds[df_genX_ds['Resource_Type'] == 'Utility_PV'].copy()\n",
    "df_genX_ds_solar = pu.map_genX_zones_to_nyiso(df_genX_ds_solar, C_and_E_mapping='C')\n",
    "\n",
    "# TGW climate data\n",
    "climate_scenario = \"historical_1980_2019\"\n",
    "\n",
    "# All\n",
    "climate_paths = np.sort(glob(f\"{pu.tgw_path}/{climate_scenario}/hourly/tgw_wrf_historical_hourly_*.nc\"))\n",
    "\n",
    "# # Subset\n",
    "# climate_paths = np.sort([glob(f\"{pu.tgw_path}/{climate_scenario}/hourly/tgw_wrf_historical_hourly_{year}*.nc\") \n",
    "#                           for year in range(1982, 1983)]).flatten()\n",
    "\n",
    "# Correction factors\n",
    "correction_file = f\"{project_path}/data/solar/models/tgw_solar_correction_factors.csv\"\n",
    "\n",
    "# Calculate the timeseries\n",
    "df_solar_new = su.calculate_solar_timeseries_from_genX(\n",
    "    df_genX = df_genX_ds_solar,\n",
    "    climate_paths = climate_paths,\n",
    "    correction_file = correction_file,\n",
    ")"
   ]
  },
  {
   "cell_type": "code",
   "execution_count": null,
   "id": "c3d12fc5-bee6-446d-966c-cb9d3f3e058c",
   "metadata": {},
   "outputs": [],
   "source": [
    "# Combined solar\n",
    "df_solar_total = pd.concat([df_solar_existing, df_solar_new])\n",
    "df_solar_total = df_solar_total.reset_index().groupby(['bus_id', 'datetime']).sum()\n",
    "\n",
    "# Store combined\n",
    "df_solar_total.reset_index().pivot(index='bus_id', \n",
    "                             columns='datetime', \n",
    "                             values='power_MW').to_csv(f\"{run_path}/inputs/solar_upv_{climate_scenario}.csv\")"
   ]
  },
  {
   "cell_type": "markdown",
   "id": "d42b4e7b-fc5d-4c26-8ec5-80b6682aa7dc",
   "metadata": {},
   "source": [
    "### Wind"
   ]
  },
  {
   "cell_type": "code",
   "execution_count": null,
   "id": "211cc8ab-cfb0-418e-bca1-f446520c2947",
   "metadata": {},
   "outputs": [],
   "source": [
    "########################\n",
    "# Existing onshore wind\n",
    "########################\n",
    "# Generate existing onshore sites\n",
    "df_genX_onshore_existing = pu.map_genX_zones_to_nyiso(df_genX[df_genX['Resource'] == 'onshore_wind_existing'].copy(),\n",
    "                                                      genX_zone_col='Zone')\n",
    "\n",
    "df_genX_onshore_existing = wu.generate_onshore_wind_sites(df_genX_onshore_existing)\n",
    "\n",
    "# TGW climate data\n",
    "climate_scenario = \"historical_1980_2019\"\n",
    "\n",
    "climate_paths = np.sort(glob(f\"{pu.tgw_path}/{climate_scenario}/hourly/tgw_wrf_historical_hourly_*.nc\"))\n",
    "\n",
    "# climate_paths = np.sort([glob(f\"{pu.tgw_path}/{climate_scenario}/hourly/tgw_wrf_historical_hourly_{year}*.nc\") \n",
    "#                           for year in range(1982, 1983)]).flatten()\n",
    "\n",
    "# Stability coefficients\n",
    "stab_coef_file = f\"{pu.project_path}/data/wind/models/tgw_wind_stability_coefficients_2007-2007_every100.csv\"\n",
    "\n",
    "# Calculate the timeseries\n",
    "df_onshore_wind = wu.calculate_wind_timeseries_from_genX(\n",
    "    df_genX = df_genX_onshore_existing,\n",
    "    climate_paths = climate_paths,\n",
    "    stab_coef_file = stab_coef_file,\n",
    "    iec_curve = 'iec1',\n",
    ")"
   ]
  },
  {
   "cell_type": "code",
   "execution_count": null,
   "id": "6004f1ac-2207-45de-b5d8-e9ac9653b13d",
   "metadata": {},
   "outputs": [],
   "source": [
    "########################\n",
    "# Existing offshore wind\n",
    "########################\n",
    "### Generate sites\n",
    "# Read NYISO shapefile\n",
    "nyiso_gdf = gpd.read_file(f'{project_path}/data/nyiso/gis/NYISO_Load_Zone_Dissolved.shp')\n",
    "\n",
    "# Generate offshore locations\n",
    "df_genX_offshore_existing = pu.map_genX_zones_to_nyiso(df_genX[df_genX['Resource'] == 'offshore_wind'].copy(),\n",
    "                                                      genX_zone_col='Zone')\n",
    "\n",
    "df_genX_offshore_existing = wu.generate_offshore_wind_sites(df_genX_offshore_existing)\n",
    "\n",
    "# Check\n",
    "fig, ax = plt.subplots()\n",
    "nyiso_gdf[nyiso_gdf['zone'].isin(df_genX_offshore_existing['genX_zone'].unique())].plot(ax=ax)\n",
    "df_genX_offshore_existing.plot(ax=ax, color='orange')\n",
    "plt.show()\n",
    "\n",
    "# Generate timeseries\n",
    "# TGW climate data\n",
    "climate_scenario = \"historical_1980_2019\"\n",
    "\n",
    "climate_paths = np.sort(glob(f\"{pu.tgw_path}/{climate_scenario}/hourly/tgw_wrf_historical_hourly_*.nc\"))\n",
    "# climate_paths = np.sort([glob(f\"{pu.tgw_path}/{climate_scenario}/hourly/tgw_wrf_historical_hourly_{year}*.nc\") \n",
    "#                           for year in range(1982, 1983)]).flatten()\n",
    "\n",
    "# Stability coefficients\n",
    "stab_coef_file = f\"{pu.project_path}/data/wind/models/tgw_wind_stability_coefficients_2007-2007_every100.csv\"\n",
    "\n",
    "# Calculate the timeseries\n",
    "df_offshore_wind = wu.calculate_wind_timeseries_from_genX(\n",
    "    df_genX = df_genX_offshore_existing,\n",
    "    climate_paths = climate_paths,\n",
    "    stab_coef_file = stab_coef_file,\n",
    "    iec_curve = 'offshore',\n",
    ")"
   ]
  },
  {
   "cell_type": "code",
   "execution_count": null,
   "id": "254f5c26-d7c1-4751-bb74-964321675734",
   "metadata": {},
   "outputs": [],
   "source": [
    "# Combined wind\n",
    "df_wind_total = pd.concat([df_onshore_wind, df_offshore_wind])\n",
    "df_wind_total = df_wind_total.reset_index().groupby(['bus_id', 'datetime']).sum()\n",
    "\n",
    "# Store combined\n",
    "df_wind_total.reset_index().pivot(index='bus_id', \n",
    "                             columns='datetime', \n",
    "                             values='power_MW').to_csv(f\"{run_path}/inputs/wind_{climate_scenario}.csv\")"
   ]
  },
  {
   "cell_type": "markdown",
   "id": "b49393ed-2562-46cc-a53a-724b0d8f519f",
   "metadata": {},
   "source": [
    "### Load"
   ]
  },
  {
   "cell_type": "code",
   "execution_count": null,
   "id": "9573c75a-d9df-4658-b8c3-95a5d808f422",
   "metadata": {},
   "outputs": [],
   "source": [
    "# Settings\n",
    "climate_scenario = \"historical_1980_2019\""
   ]
  },
  {
   "cell_type": "code",
   "execution_count": null,
   "id": "52018372-891a-4d36-915a-f0d336b7ab04",
   "metadata": {},
   "outputs": [],
   "source": [
    "# Read baseline\n",
    "df_baseline = pd.read_parquet(f\"../data/load/baseline/simulated/load_model_tgw_multizone_NN_{climate_scenario}.parquet\")\n",
    "df_baseline = df_baseline.groupby(['bus_id', 'datetime'])[['load_MW']].sum(numeric_only=True)"
   ]
  },
  {
   "cell_type": "code",
   "execution_count": null,
   "id": "bdaaa697-39bd-4535-abbb-cf62e61aa9c5",
   "metadata": {},
   "outputs": [],
   "source": [
    "# Read ResStock\n",
    "upgrade = 1\n",
    "df_resstock = pd.concat([pd.read_parquet(f\"{project_path}/data/load/resstock/simulated/bus_level/{climate_scenario}_{upgrade}_{home_type}.parquet\") for home_type in building_types_dict['resstock']])\n",
    "df_resstock = df_resstock.reset_index()\n",
    "df_resstock = df_resstock.groupby(['bus_id','time']).sum()"
   ]
  },
  {
   "cell_type": "code",
   "execution_count": null,
   "id": "98eb2d3a-8a58-4097-b6df-59bf2ee2c890",
   "metadata": {},
   "outputs": [],
   "source": [
    "# Read ComStock\n",
    "upgrade = 31\n",
    "df_comstock = pd.concat([pd.read_parquet(f\"{project_path}/data/load/comstock/simulated/bus_level/{climate_scenario}_{upgrade}_{home_type}.parquet\") for home_type in building_types_dict['comstock']])\n",
    "df_comstock = df_comstock.reset_index()\n",
    "df_comstock = df_comstock.groupby(['bus_id','time']).sum()"
   ]
  },
  {
   "cell_type": "code",
   "execution_count": 22,
   "id": "7976e110-c2d6-46d5-99c4-5329e4f5383d",
   "metadata": {},
   "outputs": [],
   "source": [
    "# Combine\n",
    "df_load = pd.concat([df_comstock.reset_index().rename(columns={'bus_load_MW':'load_MW', 'time':'datetime'}),\n",
    "                     df_resstock.reset_index().rename(columns={'bus_load_MW':'load_MW', 'time':'datetime'}),\n",
    "                     df_baseline.reset_index()]).groupby(['bus_id', 'datetime']).sum()"
   ]
  },
  {
   "cell_type": "code",
   "execution_count": 23,
   "id": "9cf0f4fa-ed39-4265-a9c8-4e8c2546c45a",
   "metadata": {},
   "outputs": [
    {
     "data": {
      "text/plain": [
       "<Axes: xlabel='datetime'>"
      ]
     },
     "execution_count": 23,
     "metadata": {},
     "output_type": "execute_result"
    },
    {
     "data": {
      "image/png": "[encoded data removed]",
      "text/plain": [
       "<Figure size 640x480 with 1 Axes>"
      ]
     },
     "metadata": {},
     "output_type": "display_data"
    }
   ],
   "source": [
    "df_load.groupby('datetime').sum().plot()"
   ]
  },
  {
   "cell_type": "code",
   "execution_count": 24,
   "id": "1fe5deb4-b367-4273-8900-55851e9806be",
   "metadata": {},
   "outputs": [],
   "source": [
    "# Store\n",
    "df_load.reset_index().pivot(index='bus_id', \n",
    "                            columns='datetime', \n",
    "                            values='load_MW').to_csv(f\"{run_path}/inputs/load_{climate_scenario}.csv\")"
   ]
  },
  {
   "cell_type": "code",
   "execution_count": null,
   "id": "b4ad4b7b-2321-434b-8896-027addc88950",
   "metadata": {},
   "outputs": [],
   "source": []
  }
 ],
 "metadata": {
  "kernelspec": {
   "display_name": "Python 3 (ipykernel)",
   "language": "python",
   "name": "python3"
  },
  "language_info": {
   "codemirror_mode": {
    "name": "ipython",
    "version": 3
   },
   "file_extension": ".py",
   "mimetype": "text/x-python",
   "name": "python",
   "nbconvert_exporter": "python",
   "pygments_lexer": "ipython3",
   "version": "3.12.8"
  }
 },
 "nbformat": 4,
 "nbformat_minor": 5
}
