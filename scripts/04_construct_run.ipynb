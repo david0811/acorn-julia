{
 "cells": [
  {
   "cell_type": "code",
   "execution_count": 1,
   "id": "fe39d20b-1729-479f-adc2-15b4617d480e",
   "metadata": {},
   "outputs": [],
   "source": [
    "import os\n",
    "from glob import glob\n",
    "from pathlib import Path\n",
    "import numpy as np\n",
    "import pandas as pd\n",
    "import geopandas as gpd\n",
    "\n",
    "import matplotlib.pyplot as plt\n",
    "\n",
    "from python import prepare_inputs as pi\n",
    "from python import solar_utils as su\n",
    "from python import wind_utils as wu\n",
    "from python import hydro_utils as hu\n",
    "from python import utils as pu\n",
    "\n",
    "from python.utils import project_path\n",
    "from python.building_elec_model import building_types_dict"
   ]
  },
  {
   "cell_type": "markdown",
   "id": "36c0af5d-5400-4212-a956-c461a2841298",
   "metadata": {},
   "source": [
    "# Input data for a run"
   ]
  },
  {
   "cell_type": "code",
   "execution_count": 2,
   "id": "cd918ab6-6dbd-42f6-8a61-6e5edf31a076",
   "metadata": {},
   "outputs": [],
   "source": [
    "# Read GenX\n",
    "df_genX = pd.read_csv(f'{project_path}/data/genX/capacity_Low_RE_High_Elec.csv')\n",
    "df_genX = pi.tidy_genX(df_genX).query('EndCap > 1.')"
   ]
  },
  {
   "cell_type": "code",
   "execution_count": 3,
   "id": "b18e0f8c-d19a-4c06-bf5b-a86cc3af65dd",
   "metadata": {},
   "outputs": [
    {
     "data": {
      "text/plain": [
       "Resource_Type\n",
       "Utility_PV    23133.29392\n",
       "Name: EndCap, dtype: float64"
      ]
     },
     "execution_count": 3,
     "metadata": {},
     "output_type": "execute_result"
    }
   ],
   "source": [
    "# Read GenX downscaled\n",
    "df_genX_ds = pd.read_csv(f'{project_path}/data/genX/selected_CPA_Combined_Capacity_Low_RE_High_Elec.csv')\n",
    "\n",
    "df_genX_ds = (df_genX_ds[(df_genX_ds['state'] == 'New York') & (df_genX_ds['iter'] == 0)]\n",
    "              .drop_duplicates(subset=['Resource', 'Zone'], keep='first')\n",
    "              .query('EndCap > 1.')\n",
    "             )\n",
    "\n",
    "df_genX_ds.groupby('Resource_Type')['EndCap'].sum()"
   ]
  },
  {
   "cell_type": "code",
   "execution_count": 4,
   "id": "46483b7c-3cd1-48c2-a037-78db5dfd452a",
   "metadata": {},
   "outputs": [],
   "source": [
    "# Run name (make sure matches above!)\n",
    "run_name = \"low_RE_high_elec_iter0_default\"\n",
    "\n",
    "run_path = f\"{project_path}/runs/{run_name}\"\n",
    "\n",
    "Path(f\"{run_path}/inputs\").mkdir(parents=True, exist_ok=True)\n",
    "Path(f\"{run_path}/outputs\").mkdir(parents=True, exist_ok=True)"
   ]
  },
  {
   "cell_type": "code",
   "execution_count": 5,
   "id": "c92756c6-353c-420f-8df4-c92c25ca8f94",
   "metadata": {},
   "outputs": [],
   "source": [
    "# Read ACORN generators\n",
    "df_genprop_bo = pd.read_csv(f'{project_path}/data/grid/gen_prop_boyuan.csv')\n",
    "df_gencost_bo = pd.read_csv(f'{project_path}/data/grid/gencost_prop_boyuan.csv')\n",
    "\n",
    "# Merge costs and info\n",
    "df_genprop = pd.merge(df_gencost_bo, df_genprop_bo)\n",
    "\n",
    "# Select NYS only\n",
    "df_genprop = df_genprop[df_genprop['GEN_ZONE'].isin(pu.zone_names)]"
   ]
  },
  {
   "cell_type": "markdown",
   "id": "82d438ff-415f-43bb-8ba3-d57cc29aaf50",
   "metadata": {
    "jp-MarkdownHeadingCollapsed": true
   },
   "source": [
    "### Thermal"
   ]
  },
  {
   "cell_type": "code",
   "execution_count": 130,
   "id": "949e2084-0d0a-46ec-9ed9-5ceacb515241",
   "metadata": {},
   "outputs": [
    {
     "name": "stdout",
     "output_type": "stream",
     "text": [
      "Starting capacity matching process...\n",
      "\n",
      "Capacity comparison:\n",
      "Zone | Current (MW) | Target (MW) | Difference (MW)\n",
      "-------------------------------------------------------\n",
      "A    |       393.0 |      536.8 |         143.8\n",
      "Zone A: Added 3 duplicate generators, increasing capacity by 144.0 MW (target: 143.8 MW)\n",
      "B    |       109.0 |      269.1 |         160.1\n",
      "Zone B: Added 3 duplicate generators, increasing capacity by 175.0 MW (target: 160.1 MW)\n",
      "C    |      1709.0 |     1672.9 |         -36.1\n",
      "Zone C: Retired 1 generators, reducing capacity by 110.0 MW (target: 36.1 MW)\n",
      "D    |       346.0 |      371.0 |          25.0\n",
      "Zone D: Added 1 duplicate generators, increasing capacity by 51.0 MW (target: 25.0 MW)\n",
      "E    |       206.0 |      201.6 |          -4.4\n",
      "Zone E: Retired 1 generators, reducing capacity by 45.0 MW (target: 4.4 MW)\n",
      "F    |      3159.0 |     3797.5 |         638.5\n",
      "Zone F: Added 3 duplicate generators, increasing capacity by 970.0 MW (target: 638.5 MW)\n",
      "G    |      1761.0 |     2015.0 |         254.0\n",
      "Zone G: Added 2 duplicate generators, increasing capacity by 311.0 MW (target: 254.0 MW)\n",
      "H    |         0.0 |        0.0 |           0.0\n",
      "I    |         0.0 |        0.0 |           0.0\n",
      "J    |      6487.0 |     5978.2 |        -508.8\n",
      "Zone J: Retired 11 generators, reducing capacity by 518.0 MW (target: 508.8 MW)\n",
      "K    |      3652.0 |     1616.7 |       -2035.3\n",
      "Zone K: Retired 24 generators, reducing capacity by 2302.0 MW (target: 2035.3 MW)\n",
      "\n",
      "============================================================\n",
      "VALIDATION RESULTS\n",
      "============================================================\n",
      "Zone | Original (MW) | Target (MW) | Final (MW) | Error (MW)\n",
      "-----------------------------------------------------------------\n",
      "A    |        393.0 |      536.8 |     537.0 |       0.2\n",
      "B    |        109.0 |      269.1 |     284.0 |      14.9\n",
      "C    |       1709.0 |     1672.9 |    1599.0 |     -73.9\n",
      "D    |        346.0 |      371.0 |     397.0 |      26.0\n",
      "E    |        206.0 |      201.6 |     161.0 |     -40.6\n",
      "F    |       3159.0 |     3797.5 |    4129.0 |     331.5\n",
      "G    |       1761.0 |     2015.0 |    2072.0 |      57.0\n",
      "H    |          0.0 |        0.0 |       0.0 |       0.0\n",
      "I    |          0.0 |        0.0 |       0.0 |       0.0\n",
      "J    |       6487.0 |     5978.2 |    5969.0 |      -9.2\n",
      "K    |       3652.0 |     1616.7 |    1350.0 |    -266.7\n"
     ]
    }
   ],
   "source": [
    "# Match thermal capacities (natural gas only)\n",
    "df_ng_matched = pi.match_ng_capacity(df_genX,\n",
    "                                     df_genprop,\n",
    "                                     store_path = run_path,\n",
    "                                     retirement_method='highest_cost_first')"
   ]
  },
  {
   "cell_type": "markdown",
   "id": "5dd7dbbe-1b9e-4cfd-b77b-50bdd05a4b9a",
   "metadata": {
    "jp-MarkdownHeadingCollapsed": true
   },
   "source": [
    "### Nuclear"
   ]
  },
  {
   "cell_type": "code",
   "execution_count": 122,
   "id": "55254b51-f6bc-4916-ae8d-d903c4e85eb9",
   "metadata": {},
   "outputs": [
    {
     "data": {
      "text/html": [
       "<div>\n",
       "<style scoped>\n",
       "    .dataframe tbody tr th:only-of-type {\n",
       "        vertical-align: middle;\n",
       "    }\n",
       "\n",
       "    .dataframe tbody tr th {\n",
       "        vertical-align: top;\n",
       "    }\n",
       "\n",
       "    .dataframe thead th {\n",
       "        text-align: right;\n",
       "    }\n",
       "</style>\n",
       "<table border=\"1\" class=\"dataframe\">\n",
       "  <thead>\n",
       "    <tr style=\"text-align: right;\">\n",
       "      <th></th>\n",
       "      <th>Resource</th>\n",
       "      <th>Zone</th>\n",
       "      <th>EndCap</th>\n",
       "    </tr>\n",
       "  </thead>\n",
       "  <tbody>\n",
       "    <tr>\n",
       "      <th>178</th>\n",
       "      <td>nuclear</td>\n",
       "      <td>C&amp;E</td>\n",
       "      <td>2699.998583</td>\n",
       "    </tr>\n",
       "  </tbody>\n",
       "</table>\n",
       "</div>"
      ],
      "text/plain": [
       "    Resource Zone       EndCap\n",
       "178  nuclear  C&E  2699.998583"
      ]
     },
     "execution_count": 122,
     "metadata": {},
     "output_type": "execute_result"
    }
   ],
   "source": [
    "# GenX\n",
    "df_genX.query('Resource == \"nuclear\"')[['Resource', 'Zone', 'EndCap']]"
   ]
  },
  {
   "cell_type": "code",
   "execution_count": 123,
   "id": "4e1da9d6-ced7-4977-b62d-f63726b7cb24",
   "metadata": {},
   "outputs": [
    {
     "data": {
      "text/html": [
       "<div>\n",
       "<style scoped>\n",
       "    .dataframe tbody tr th:only-of-type {\n",
       "        vertical-align: middle;\n",
       "    }\n",
       "\n",
       "    .dataframe tbody tr th {\n",
       "        vertical-align: top;\n",
       "    }\n",
       "\n",
       "    .dataframe thead th {\n",
       "        text-align: right;\n",
       "    }\n",
       "</style>\n",
       "<table border=\"1\" class=\"dataframe\">\n",
       "  <thead>\n",
       "    <tr style=\"text-align: right;\">\n",
       "      <th></th>\n",
       "      <th>GEN_NAME</th>\n",
       "      <th>PMAX</th>\n",
       "      <th>GEN_ZONE</th>\n",
       "      <th>GEN_STATUS</th>\n",
       "    </tr>\n",
       "  </thead>\n",
       "  <tbody>\n",
       "    <tr>\n",
       "      <th>236</th>\n",
       "      <td>Indian Point 2</td>\n",
       "      <td>1026.5</td>\n",
       "      <td>H</td>\n",
       "      <td>1</td>\n",
       "    </tr>\n",
       "    <tr>\n",
       "      <th>237</th>\n",
       "      <td>Indian Point 3</td>\n",
       "      <td>1040.4</td>\n",
       "      <td>H</td>\n",
       "      <td>1</td>\n",
       "    </tr>\n",
       "    <tr>\n",
       "      <th>238</th>\n",
       "      <td>James A. FitzPatrick</td>\n",
       "      <td>858.9</td>\n",
       "      <td>C</td>\n",
       "      <td>1</td>\n",
       "    </tr>\n",
       "    <tr>\n",
       "      <th>239</th>\n",
       "      <td>Nine Mile Point 1</td>\n",
       "      <td>630.5</td>\n",
       "      <td>C</td>\n",
       "      <td>1</td>\n",
       "    </tr>\n",
       "    <tr>\n",
       "      <th>240</th>\n",
       "      <td>Nine Mile Point 2</td>\n",
       "      <td>1246.6</td>\n",
       "      <td>C</td>\n",
       "      <td>1</td>\n",
       "    </tr>\n",
       "    <tr>\n",
       "      <th>241</th>\n",
       "      <td>R. E. Ginna</td>\n",
       "      <td>582.0</td>\n",
       "      <td>B</td>\n",
       "      <td>1</td>\n",
       "    </tr>\n",
       "  </tbody>\n",
       "</table>\n",
       "</div>"
      ],
      "text/plain": [
       "                 GEN_NAME    PMAX GEN_ZONE  GEN_STATUS\n",
       "236        Indian Point 2  1026.5        H           1\n",
       "237        Indian Point 3  1040.4        H           1\n",
       "238  James A. FitzPatrick   858.9        C           1\n",
       "239     Nine Mile Point 1   630.5        C           1\n",
       "240     Nine Mile Point 2  1246.6        C           1\n",
       "241           R. E. Ginna   582.0        B           1"
      ]
     },
     "execution_count": 123,
     "metadata": {},
     "output_type": "execute_result"
    }
   ],
   "source": [
    "# ACORN\n",
    "df_genprop[df_genprop['FUEL_TYPE'] == 'UR'][['GEN_NAME', 'PMAX', 'GEN_ZONE', 'GEN_STATUS']]"
   ]
  },
  {
   "cell_type": "code",
   "execution_count": 128,
   "id": "b31e2f8f-38ce-48ad-8330-306b41515321",
   "metadata": {},
   "outputs": [],
   "source": [
    "# Match nuclear by hand -> keep only nuclear in zone C\n",
    "# Retire all nuclear outside zone C\n",
    "df_nuclear = df_genprop[(df_genprop['FUEL_TYPE'] == 'UR') & (df_genprop['GEN_ZONE'] == 'C')]\n",
    "# Store\n",
    "df_nuclear.to_csv(f\"{run_path}/inputs/genprop_nuclear_matched.csv\", index=False)"
   ]
  },
  {
   "cell_type": "markdown",
   "id": "fbfb2cc0-702c-4cdb-9401-c924c985d46c",
   "metadata": {},
   "source": [
    "### Hydro"
   ]
  },
  {
   "cell_type": "code",
   "execution_count": 6,
   "id": "83c6b20d-ccd2-470d-8745-72be546e4f7b",
   "metadata": {},
   "outputs": [],
   "source": [
    "# Read historical\n",
    "df_hydro_hist = pd.read_csv('../data/hydro/godeeep-hydro/godeeep-hydro-historical-weekly.csv')\n",
    "df_hydro_plants = pd.read_csv('../data/hydro/godeeep-hydro/godeeep-hydro-plants.csv')"
   ]
  },
  {
   "cell_type": "code",
   "execution_count": 58,
   "id": "0c3d6b4c-8a73-434b-a1c3-135b0318bf33",
   "metadata": {},
   "outputs": [
    {
     "data": {
      "text/html": [
       "<div>\n",
       "<style scoped>\n",
       "    .dataframe tbody tr th:only-of-type {\n",
       "        vertical-align: middle;\n",
       "    }\n",
       "\n",
       "    .dataframe tbody tr th {\n",
       "        vertical-align: top;\n",
       "    }\n",
       "\n",
       "    .dataframe thead th {\n",
       "        text-align: right;\n",
       "    }\n",
       "</style>\n",
       "<table border=\"1\" class=\"dataframe\">\n",
       "  <thead>\n",
       "    <tr style=\"text-align: right;\">\n",
       "      <th></th>\n",
       "      <th>eia_id</th>\n",
       "      <th>plant</th>\n",
       "      <th>mode</th>\n",
       "      <th>state</th>\n",
       "      <th>lat</th>\n",
       "      <th>lon</th>\n",
       "      <th>nameplate_capacity</th>\n",
       "      <th>nerc_region</th>\n",
       "      <th>ba</th>\n",
       "      <th>max_param</th>\n",
       "      <th>min_param</th>\n",
       "      <th>ador_param</th>\n",
       "      <th>huc2</th>\n",
       "    </tr>\n",
       "  </thead>\n",
       "  <tbody>\n",
       "    <tr>\n",
       "      <th>0</th>\n",
       "      <td>541</td>\n",
       "      <td>Bulls Bridge</td>\n",
       "      <td>RoR</td>\n",
       "      <td>CT</td>\n",
       "      <td>41.67810</td>\n",
       "      <td>-73.50900</td>\n",
       "      <td>7.2</td>\n",
       "      <td>NPCC</td>\n",
       "      <td>ISNE</td>\n",
       "      <td>0.45949</td>\n",
       "      <td>0.39873</td>\n",
       "      <td>0.44611</td>\n",
       "      <td>1</td>\n",
       "    </tr>\n",
       "    <tr>\n",
       "      <th>1</th>\n",
       "      <td>551</td>\n",
       "      <td>Scotland Dam</td>\n",
       "      <td>RoR</td>\n",
       "      <td>CT</td>\n",
       "      <td>41.66490</td>\n",
       "      <td>-72.12260</td>\n",
       "      <td>2.0</td>\n",
       "      <td>NPCC</td>\n",
       "      <td>ISNE</td>\n",
       "      <td>0.45949</td>\n",
       "      <td>0.39873</td>\n",
       "      <td>0.44611</td>\n",
       "      <td>1</td>\n",
       "    </tr>\n",
       "    <tr>\n",
       "      <th>2</th>\n",
       "      <td>552</td>\n",
       "      <td>Shepaug</td>\n",
       "      <td>Storage</td>\n",
       "      <td>CT</td>\n",
       "      <td>41.44790</td>\n",
       "      <td>-73.29640</td>\n",
       "      <td>37.2</td>\n",
       "      <td>NPCC</td>\n",
       "      <td>ISNE</td>\n",
       "      <td>0.62022</td>\n",
       "      <td>0.35792</td>\n",
       "      <td>0.33761</td>\n",
       "      <td>1</td>\n",
       "    </tr>\n",
       "    <tr>\n",
       "      <th>3</th>\n",
       "      <td>553</td>\n",
       "      <td>Stevenson</td>\n",
       "      <td>Storage</td>\n",
       "      <td>CT</td>\n",
       "      <td>41.38320</td>\n",
       "      <td>-73.17210</td>\n",
       "      <td>30.5</td>\n",
       "      <td>NPCC</td>\n",
       "      <td>ISNE</td>\n",
       "      <td>0.62022</td>\n",
       "      <td>0.35792</td>\n",
       "      <td>0.33761</td>\n",
       "      <td>1</td>\n",
       "    </tr>\n",
       "    <tr>\n",
       "      <th>4</th>\n",
       "      <td>554</td>\n",
       "      <td>Taftville</td>\n",
       "      <td>Storage</td>\n",
       "      <td>CT</td>\n",
       "      <td>41.57271</td>\n",
       "      <td>-72.04559</td>\n",
       "      <td>1.6</td>\n",
       "      <td>NPCC</td>\n",
       "      <td>ISNE</td>\n",
       "      <td>0.62022</td>\n",
       "      <td>0.35792</td>\n",
       "      <td>0.33761</td>\n",
       "      <td>1</td>\n",
       "    </tr>\n",
       "    <tr>\n",
       "      <th>...</th>\n",
       "      <td>...</td>\n",
       "      <td>...</td>\n",
       "      <td>...</td>\n",
       "      <td>...</td>\n",
       "      <td>...</td>\n",
       "      <td>...</td>\n",
       "      <td>...</td>\n",
       "      <td>...</td>\n",
       "      <td>...</td>\n",
       "      <td>...</td>\n",
       "      <td>...</td>\n",
       "      <td>...</td>\n",
       "      <td>...</td>\n",
       "    </tr>\n",
       "    <tr>\n",
       "      <th>1447</th>\n",
       "      <td>54654</td>\n",
       "      <td>Kekawaka Power House</td>\n",
       "      <td>RoR</td>\n",
       "      <td>CA</td>\n",
       "      <td>40.11070</td>\n",
       "      <td>-123.46600</td>\n",
       "      <td>4.9</td>\n",
       "      <td>WECC</td>\n",
       "      <td>CISO</td>\n",
       "      <td>0.45949</td>\n",
       "      <td>0.39873</td>\n",
       "      <td>0.44611</td>\n",
       "      <td>18</td>\n",
       "    </tr>\n",
       "    <tr>\n",
       "      <th>1448</th>\n",
       "      <td>55009</td>\n",
       "      <td>Montgomery Creek Hydro</td>\n",
       "      <td>Storage</td>\n",
       "      <td>CA</td>\n",
       "      <td>40.83620</td>\n",
       "      <td>-121.93900</td>\n",
       "      <td>2.6</td>\n",
       "      <td>WECC</td>\n",
       "      <td>CISO</td>\n",
       "      <td>0.62022</td>\n",
       "      <td>0.35792</td>\n",
       "      <td>0.33761</td>\n",
       "      <td>18</td>\n",
       "    </tr>\n",
       "    <tr>\n",
       "      <th>1449</th>\n",
       "      <td>56125</td>\n",
       "      <td>Springville Hydroelectric</td>\n",
       "      <td>Storage</td>\n",
       "      <td>CA</td>\n",
       "      <td>34.22730</td>\n",
       "      <td>-119.08630</td>\n",
       "      <td>1.0</td>\n",
       "      <td>WECC</td>\n",
       "      <td>CISO</td>\n",
       "      <td>0.62022</td>\n",
       "      <td>0.35792</td>\n",
       "      <td>0.33761</td>\n",
       "      <td>18</td>\n",
       "    </tr>\n",
       "    <tr>\n",
       "      <th>1450</th>\n",
       "      <td>57854</td>\n",
       "      <td>North Hollywood</td>\n",
       "      <td>Storage</td>\n",
       "      <td>CA</td>\n",
       "      <td>34.19444</td>\n",
       "      <td>-118.39028</td>\n",
       "      <td>6.1</td>\n",
       "      <td>WECC</td>\n",
       "      <td>LDWP</td>\n",
       "      <td>0.62022</td>\n",
       "      <td>0.35792</td>\n",
       "      <td>0.33761</td>\n",
       "      <td>18</td>\n",
       "    </tr>\n",
       "    <tr>\n",
       "      <th>1451</th>\n",
       "      <td>59428</td>\n",
       "      <td>Baker Creek Diversion</td>\n",
       "      <td>Storage</td>\n",
       "      <td>CA</td>\n",
       "      <td>40.52639</td>\n",
       "      <td>-123.72556</td>\n",
       "      <td>1.5</td>\n",
       "      <td>WECC</td>\n",
       "      <td>CISO</td>\n",
       "      <td>0.62022</td>\n",
       "      <td>0.35792</td>\n",
       "      <td>0.33761</td>\n",
       "      <td>18</td>\n",
       "    </tr>\n",
       "  </tbody>\n",
       "</table>\n",
       "<p>1452 rows × 13 columns</p>\n",
       "</div>"
      ],
      "text/plain": [
       "      eia_id                      plant     mode state       lat        lon  \\\n",
       "0        541               Bulls Bridge      RoR    CT  41.67810  -73.50900   \n",
       "1        551               Scotland Dam      RoR    CT  41.66490  -72.12260   \n",
       "2        552                    Shepaug  Storage    CT  41.44790  -73.29640   \n",
       "3        553                  Stevenson  Storage    CT  41.38320  -73.17210   \n",
       "4        554                  Taftville  Storage    CT  41.57271  -72.04559   \n",
       "...      ...                        ...      ...   ...       ...        ...   \n",
       "1447   54654       Kekawaka Power House      RoR    CA  40.11070 -123.46600   \n",
       "1448   55009     Montgomery Creek Hydro  Storage    CA  40.83620 -121.93900   \n",
       "1449   56125  Springville Hydroelectric  Storage    CA  34.22730 -119.08630   \n",
       "1450   57854            North Hollywood  Storage    CA  34.19444 -118.39028   \n",
       "1451   59428      Baker Creek Diversion  Storage    CA  40.52639 -123.72556   \n",
       "\n",
       "      nameplate_capacity nerc_region    ba  max_param  min_param  ador_param  \\\n",
       "0                    7.2        NPCC  ISNE    0.45949    0.39873     0.44611   \n",
       "1                    2.0        NPCC  ISNE    0.45949    0.39873     0.44611   \n",
       "2                   37.2        NPCC  ISNE    0.62022    0.35792     0.33761   \n",
       "3                   30.5        NPCC  ISNE    0.62022    0.35792     0.33761   \n",
       "4                    1.6        NPCC  ISNE    0.62022    0.35792     0.33761   \n",
       "...                  ...         ...   ...        ...        ...         ...   \n",
       "1447                 4.9        WECC  CISO    0.45949    0.39873     0.44611   \n",
       "1448                 2.6        WECC  CISO    0.62022    0.35792     0.33761   \n",
       "1449                 1.0        WECC  CISO    0.62022    0.35792     0.33761   \n",
       "1450                 6.1        WECC  LDWP    0.62022    0.35792     0.33761   \n",
       "1451                 1.5        WECC  CISO    0.62022    0.35792     0.33761   \n",
       "\n",
       "      huc2  \n",
       "0        1  \n",
       "1        1  \n",
       "2        1  \n",
       "3        1  \n",
       "4        1  \n",
       "...    ...  \n",
       "1447    18  \n",
       "1448    18  \n",
       "1449    18  \n",
       "1450    18  \n",
       "1451    18  \n",
       "\n",
       "[1452 rows x 13 columns]"
      ]
     },
     "execution_count": 58,
     "metadata": {},
     "output_type": "execute_result"
    }
   ],
   "source": [
    "df_hydro_plants"
   ]
  },
  {
   "cell_type": "code",
   "execution_count": 7,
   "id": "518d0f5c-efc2-4887-8131-6b03e5c93690",
   "metadata": {},
   "outputs": [],
   "source": [
    "# Subset to NYISO plants\n",
    "nyiso_plants = df_hydro_plants[df_hydro_plants['ba'] == \"NYIS\"]['eia_id']\n",
    "df_hydro_hist = df_hydro_hist[df_hydro_hist['eia_id'].isin(nyiso_plants)].copy()\n",
    "df_hydro_hist['datetime'] = pd.to_datetime(df_hydro_hist['datetime'])"
   ]
  },
  {
   "cell_type": "code",
   "execution_count": 62,
   "id": "a97ac56e-4638-43d8-8a7f-af827b06abe3",
   "metadata": {},
   "outputs": [],
   "source": [
    "# For Robert-Moses Niagara we model the diurnal pattern\n",
    "df_niagara = hu.disaggregate_weekly_to_hourly(\n",
    "    df = df_hydro_hist[df_hydro_hist['plant'] == 'Robert Moses Niagara'].copy(),\n",
    "    method='diurnal'\n",
    ")"
   ]
  },
  {
   "cell_type": "code",
   "execution_count": 63,
   "id": "d809a324-4a2a-4cbb-84e4-07e93cd17844",
   "metadata": {},
   "outputs": [
    {
     "data": {
      "text/html": [
       "<div>\n",
       "<style scoped>\n",
       "    .dataframe tbody tr th:only-of-type {\n",
       "        vertical-align: middle;\n",
       "    }\n",
       "\n",
       "    .dataframe tbody tr th {\n",
       "        vertical-align: top;\n",
       "    }\n",
       "\n",
       "    .dataframe thead th {\n",
       "        text-align: right;\n",
       "    }\n",
       "</style>\n",
       "<table border=\"1\" class=\"dataframe\">\n",
       "  <thead>\n",
       "    <tr style=\"text-align: right;\">\n",
       "      <th></th>\n",
       "      <th></th>\n",
       "      <th>power_mw</th>\n",
       "    </tr>\n",
       "    <tr>\n",
       "      <th>eia_id</th>\n",
       "      <th>datetime</th>\n",
       "      <th></th>\n",
       "    </tr>\n",
       "  </thead>\n",
       "  <tbody>\n",
       "    <tr>\n",
       "      <th rowspan=\"11\" valign=\"top\">2693</th>\n",
       "      <th>1982-01-01 00:00:00</th>\n",
       "      <td>1739.380452</td>\n",
       "    </tr>\n",
       "    <tr>\n",
       "      <th>1982-01-01 01:00:00</th>\n",
       "      <td>1751.960792</td>\n",
       "    </tr>\n",
       "    <tr>\n",
       "      <th>1982-01-01 02:00:00</th>\n",
       "      <td>1784.891986</td>\n",
       "    </tr>\n",
       "    <tr>\n",
       "      <th>1982-01-01 03:00:00</th>\n",
       "      <td>1856.757655</td>\n",
       "    </tr>\n",
       "    <tr>\n",
       "      <th>1982-01-01 04:00:00</th>\n",
       "      <td>1986.258124</td>\n",
       "    </tr>\n",
       "    <tr>\n",
       "      <th>...</th>\n",
       "      <td>...</td>\n",
       "    </tr>\n",
       "    <tr>\n",
       "      <th>2019-12-31 19:00:00</th>\n",
       "      <td>3164.511248</td>\n",
       "    </tr>\n",
       "    <tr>\n",
       "      <th>2019-12-31 20:00:00</th>\n",
       "      <td>2944.856202</td>\n",
       "    </tr>\n",
       "    <tr>\n",
       "      <th>2019-12-31 21:00:00</th>\n",
       "      <td>2651.165606</td>\n",
       "    </tr>\n",
       "    <tr>\n",
       "      <th>2019-12-31 22:00:00</th>\n",
       "      <td>2355.649480</td>\n",
       "    </tr>\n",
       "    <tr>\n",
       "      <th>2019-12-31 23:00:00</th>\n",
       "      <td>2111.032951</td>\n",
       "    </tr>\n",
       "  </tbody>\n",
       "</table>\n",
       "<p>333096 rows × 1 columns</p>\n",
       "</div>"
      ],
      "text/plain": [
       "                               power_mw\n",
       "eia_id datetime                        \n",
       "2693   1982-01-01 00:00:00  1739.380452\n",
       "       1982-01-01 01:00:00  1751.960792\n",
       "       1982-01-01 02:00:00  1784.891986\n",
       "       1982-01-01 03:00:00  1856.757655\n",
       "       1982-01-01 04:00:00  1986.258124\n",
       "...                                 ...\n",
       "       2019-12-31 19:00:00  3164.511248\n",
       "       2019-12-31 20:00:00  2944.856202\n",
       "       2019-12-31 21:00:00  2651.165606\n",
       "       2019-12-31 22:00:00  2355.649480\n",
       "       2019-12-31 23:00:00  2111.032951\n",
       "\n",
       "[333096 rows x 1 columns]"
      ]
     },
     "execution_count": 63,
     "metadata": {},
     "output_type": "execute_result"
    }
   ],
   "source": [
    "df_niagara"
   ]
  },
  {
   "cell_type": "code",
   "execution_count": 33,
   "id": "199873d6-1d37-4b85-9a31-e575bb142841",
   "metadata": {},
   "outputs": [
    {
     "data": {
      "text/plain": [
       "<Axes: xlabel='datetime'>"
      ]
     },
     "execution_count": 33,
     "metadata": {},
     "output_type": "execute_result"
    },
    {
     "data": {
      "image/png": "[encoded data removed]",
      "text/plain": [
       "<Figure size 640x480 with 1 Axes>"
      ]
     },
     "metadata": {},
     "output_type": "display_data"
    }
   ],
   "source": [
    "df_niagara.iloc[-168:].plot(x='datetime', y='power_mw')"
   ]
  },
  {
   "cell_type": "code",
   "execution_count": 59,
   "id": "8f2e928f-67aa-41a2-93c2-96a1d2f9d5e7",
   "metadata": {},
   "outputs": [
    {
     "data": {
      "text/plain": [
       "<module 'python.hydro_utils' from '/home/fs01/dcl257/projects/acorn-julia/src/python/hydro_utils.py'>"
      ]
     },
     "execution_count": 59,
     "metadata": {},
     "output_type": "execute_result"
    }
   ],
   "source": [
    "import importlib\n",
    "importlib.reload(hu)"
   ]
  },
  {
   "cell_type": "code",
   "execution_count": 60,
   "id": "3293b528-68a5-4aa2-a7d3-a78fac02d406",
   "metadata": {},
   "outputs": [],
   "source": [
    "# For others we assume constant\n",
    "df_others = hu.disaggregate_weekly_to_hourly(\n",
    "    df = df_hydro_hist[df_hydro_hist['plant'] != 'Robert Moses Niagara'].copy(),\n",
    "    method='average'\n",
    ")"
   ]
  },
  {
   "cell_type": "code",
   "execution_count": 61,
   "id": "96124847-cab1-4a10-9d34-91ec73a41382",
   "metadata": {},
   "outputs": [
    {
     "data": {
      "text/html": [
       "<div>\n",
       "<style scoped>\n",
       "    .dataframe tbody tr th:only-of-type {\n",
       "        vertical-align: middle;\n",
       "    }\n",
       "\n",
       "    .dataframe tbody tr th {\n",
       "        vertical-align: top;\n",
       "    }\n",
       "\n",
       "    .dataframe thead th {\n",
       "        text-align: right;\n",
       "    }\n",
       "</style>\n",
       "<table border=\"1\" class=\"dataframe\">\n",
       "  <thead>\n",
       "    <tr style=\"text-align: right;\">\n",
       "      <th></th>\n",
       "      <th></th>\n",
       "      <th>p_avg</th>\n",
       "    </tr>\n",
       "    <tr>\n",
       "      <th>eia_id</th>\n",
       "      <th>datetime</th>\n",
       "      <th></th>\n",
       "    </tr>\n",
       "  </thead>\n",
       "  <tbody>\n",
       "    <tr>\n",
       "      <th rowspan=\"5\" valign=\"top\">88</th>\n",
       "      <th>1982-01-01 00:00:00</th>\n",
       "      <td>2.14404</td>\n",
       "    </tr>\n",
       "    <tr>\n",
       "      <th>1982-01-01 01:00:00</th>\n",
       "      <td>2.14404</td>\n",
       "    </tr>\n",
       "    <tr>\n",
       "      <th>1982-01-01 02:00:00</th>\n",
       "      <td>2.14404</td>\n",
       "    </tr>\n",
       "    <tr>\n",
       "      <th>1982-01-01 03:00:00</th>\n",
       "      <td>2.14404</td>\n",
       "    </tr>\n",
       "    <tr>\n",
       "      <th>1982-01-01 04:00:00</th>\n",
       "      <td>2.14404</td>\n",
       "    </tr>\n",
       "    <tr>\n",
       "      <th>...</th>\n",
       "      <th>...</th>\n",
       "      <td>...</td>\n",
       "    </tr>\n",
       "    <tr>\n",
       "      <th rowspan=\"5\" valign=\"top\">61642</th>\n",
       "      <th>2019-12-30 20:00:00</th>\n",
       "      <td>0.78334</td>\n",
       "    </tr>\n",
       "    <tr>\n",
       "      <th>2019-12-30 21:00:00</th>\n",
       "      <td>0.78334</td>\n",
       "    </tr>\n",
       "    <tr>\n",
       "      <th>2019-12-30 22:00:00</th>\n",
       "      <td>0.78334</td>\n",
       "    </tr>\n",
       "    <tr>\n",
       "      <th>2019-12-30 23:00:00</th>\n",
       "      <td>0.78334</td>\n",
       "    </tr>\n",
       "    <tr>\n",
       "      <th>2019-12-31 00:00:00</th>\n",
       "      <td>1.50000</td>\n",
       "    </tr>\n",
       "  </tbody>\n",
       "</table>\n",
       "<p>53291680 rows × 1 columns</p>\n",
       "</div>"
      ],
      "text/plain": [
       "                              p_avg\n",
       "eia_id datetime                    \n",
       "88     1982-01-01 00:00:00  2.14404\n",
       "       1982-01-01 01:00:00  2.14404\n",
       "       1982-01-01 02:00:00  2.14404\n",
       "       1982-01-01 03:00:00  2.14404\n",
       "       1982-01-01 04:00:00  2.14404\n",
       "...                             ...\n",
       "61642  2019-12-30 20:00:00  0.78334\n",
       "       2019-12-30 21:00:00  0.78334\n",
       "       2019-12-30 22:00:00  0.78334\n",
       "       2019-12-30 23:00:00  0.78334\n",
       "       2019-12-31 00:00:00  1.50000\n",
       "\n",
       "[53291680 rows x 1 columns]"
      ]
     },
     "execution_count": 61,
     "metadata": {},
     "output_type": "execute_result"
    }
   ],
   "source": [
    "df_others"
   ]
  },
  {
   "cell_type": "markdown",
   "id": "53094e73-22a1-424d-aa3c-90e53c43de80",
   "metadata": {},
   "source": [
    "### Solar"
   ]
  },
  {
   "cell_type": "code",
   "execution_count": 55,
   "id": "a63105a8-ff14-4319-8087-356daa98b3b1",
   "metadata": {},
   "outputs": [],
   "source": [
    "#######################\n",
    "# Existing solar: DPV\n",
    "#######################\n",
    "# Generate existing onshore sites\n",
    "df_genX_solar_dpv = pu.map_genX_zones_to_nyiso(df_genX[df_genX['Resource'] == 'distributed_generation'].copy(),\n",
    "                                               genX_zone_col='Zone')\n",
    "\n",
    "df_genX_solar_dpv = su.generate_solar_sites(df_genX_solar_dpv, sites_per_zone=10)\n",
    "\n",
    "# TGW climate data\n",
    "climate_scenario = \"historical_1980_2019\"\n",
    "\n",
    "# climate_paths = np.sort(glob(f\"{pu.tgw_path}/{climate_scenario}/hourly/tgw_wrf_historical_hourly_*.nc\"))\n",
    "climate_paths = np.sort([glob(f\"{pu.tgw_path}/{climate_scenario}/hourly/tgw_wrf_historical_hourly_{year}*.nc\") \n",
    "                          for year in range(1980, 1981)]).flatten()\n",
    "\n",
    "# Correction factors\n",
    "correction_file = f\"{project_path}/data/solar/models/tgw_solar_correction_factors.csv\"\n",
    "\n",
    "# Calculate the timeseries\n",
    "df_solar_dpv = su.calculate_solar_timeseries_from_genX(\n",
    "    df_genX = df_genX_solar_dpv,\n",
    "    climate_paths = climate_paths,\n",
    "    correction_file = correction_file,\n",
    "    PV_bus_only = False\n",
    ")\n",
    "\n",
    "# Store\n",
    "df_solar_dpv.reset_index().pivot(index='bus_id', \n",
    "                             columns='datetime', \n",
    "                             values='power_MW').to_csv(f\"{run_path}/inputs/solar_dpv_{climate_scenario}.csv\")"
   ]
  },
  {
   "cell_type": "code",
   "execution_count": 8,
   "id": "4842a2cf-5a06-4814-a989-7f1aa1f97370",
   "metadata": {},
   "outputs": [],
   "source": [
    "####################\n",
    "# Existing solar\n",
    "####################\n",
    "# Generate existing onshore sites\n",
    "df_genX_solar_existing = pu.map_genX_zones_to_nyiso(df_genX[df_genX['Resource'] == 'solar_existing'].copy(),\n",
    "                                                   genX_zone_col='Zone')\n",
    "\n",
    "df_genX_solar_existing = su.generate_solar_sites(df_genX_solar_existing)\n",
    "\n",
    "# TGW climate data\n",
    "climate_scenario = \"historical_1980_2019\"\n",
    "\n",
    "# climate_paths = np.sort(glob(f\"{pu.tgw_path}/{climate_scenario}/hourly/tgw_wrf_historical_hourly_*.nc\"))\n",
    "climate_paths = np.sort([glob(f\"{pu.tgw_path}/{climate_scenario}/hourly/tgw_wrf_historical_hourly_{year}*.nc\") \n",
    "                          for year in range(1980, 1981)]).flatten()\n",
    "\n",
    "# Correction factors\n",
    "correction_file = f\"{project_path}/data/solar/models/tgw_solar_correction_factors.csv\"\n",
    "\n",
    "# Calculate the timeseries\n",
    "df_solar_existing = su.calculate_solar_timeseries_from_genX(\n",
    "    df_genX = df_genX_solar_existing,\n",
    "    climate_paths = climate_paths,\n",
    "    correction_file = correction_file,\n",
    ")"
   ]
  },
  {
   "cell_type": "code",
   "execution_count": 47,
   "id": "5f2aa601-6a76-4664-8de0-623d931c6e4a",
   "metadata": {},
   "outputs": [
    {
     "data": {
      "image/png": "[encoded data removed]",
      "text/plain": [
       "<Figure size 1500x1000 with 2 Axes>"
      ]
     },
     "metadata": {},
     "output_type": "display_data"
    }
   ],
   "source": [
    "################################################################\n",
    "# NOTE: The genX zones do not always align with their coordinates\n",
    "# (i.e. they will be assigned to a different zone).\n",
    "# When aggregating to bus level, assigning `match_zone` = True\n",
    "# means that genX zones will be respected. `match_zone` = False\n",
    "# means it will use the lat/lon coords instead.\n",
    "################################################################\n",
    "# Read NYISO shapefile\n",
    "nyiso_gdf = gpd.read_file(f'{project_path}/data/nyiso/gis/NYISO_Load_Zone_Dissolved.shp')\n",
    "\n",
    "# Plot\n",
    "fig, axs = plt.subplots(1,2, figsize=(15,10))\n",
    "\n",
    "nyiso_gdf.plot(ax=axs[0])\n",
    "pu.merge_to_zones(df_genX_ds[df_genX_ds['Resource_Type'] == 'Utility_PV'],\n",
    "               lat_name='latitude',\n",
    "               lon_name='longitude').plot(ax=axs[0], column='region', legend=True, cmap='Paired')\n",
    "\n",
    "nyiso_gdf.plot(ax=axs[1], column='zone', legend=True, cmap='Paired')\n",
    "\n",
    "plt.show()"
   ]
  },
  {
   "cell_type": "code",
   "execution_count": 11,
   "id": "de892833-d249-408f-8f43-231278570541",
   "metadata": {},
   "outputs": [],
   "source": [
    "####################\n",
    "# New solar\n",
    "####################\n",
    "# Update the genX regions\n",
    "df_genX_ds_solar = df_genX_ds[df_genX_ds['Resource_Type'] == 'Utility_PV'].copy()\n",
    "df_genX_ds_solar = pu.map_genX_zones_to_nyiso(df_genX_ds_solar, C_and_E_mapping='C')\n",
    "\n",
    "# TGW climate data\n",
    "climate_scenario = \"historical_1980_2019\"\n",
    "\n",
    "# climate_paths = np.sort(glob(f\"{pu.tgw_path}/{climate_scenario}/hourly/tgw_wrf_historical_hourly_*.nc\"))\n",
    "climate_paths = np.sort([glob(f\"{pu.tgw_path}/{climate_scenario}/hourly/tgw_wrf_historical_hourly_{year}*.nc\") \n",
    "                          for year in range(1980, 1981)]).flatten()\n",
    "\n",
    "# Correction factors\n",
    "correction_file = f\"{project_path}/data/solar/models/tgw_solar_correction_factors.csv\"\n",
    "\n",
    "# Calculate the timeseries\n",
    "df_solar_new = su.calculate_solar_timeseries_from_genX(\n",
    "    df_genX = df_genX_ds_solar,\n",
    "    climate_paths = climate_paths,\n",
    "    correction_file = correction_file,\n",
    ")"
   ]
  },
  {
   "cell_type": "code",
   "execution_count": 12,
   "id": "c3d12fc5-bee6-446d-966c-cb9d3f3e058c",
   "metadata": {},
   "outputs": [],
   "source": [
    "# Combined solar\n",
    "df_solar_total = pd.concat([df_solar_existing, df_solar_new])\n",
    "df_solar_total = df_solar_total.reset_index().groupby(['bus_id', 'datetime']).sum()\n",
    "\n",
    "# Store combined\n",
    "df_solar_total.reset_index().pivot(index='bus_id', \n",
    "                             columns='datetime', \n",
    "                             values='power_MW').to_csv(f\"{run_path}/inputs/solar_upv_{climate_scenario}.csv\")"
   ]
  },
  {
   "cell_type": "markdown",
   "id": "d42b4e7b-fc5d-4c26-8ec5-80b6682aa7dc",
   "metadata": {},
   "source": [
    "### Wind"
   ]
  },
  {
   "cell_type": "code",
   "execution_count": 13,
   "id": "28dce259-da55-4ab7-a180-69923154e9c2",
   "metadata": {},
   "outputs": [],
   "source": [
    "# Read NYISO shapefile\n",
    "nyiso_gdf = gpd.read_file(f'{project_path}/data/nyiso/gis/NYISO_Load_Zone_Dissolved.shp')"
   ]
  },
  {
   "cell_type": "code",
   "execution_count": 17,
   "id": "211cc8ab-cfb0-418e-bca1-f446520c2947",
   "metadata": {},
   "outputs": [],
   "source": [
    "########################\n",
    "# Existing onshore wind\n",
    "########################\n",
    "# Generate existing onshore sites\n",
    "df_genX_onshore_existing = pu.map_genX_zones_to_nyiso(df_genX[df_genX['Resource'] == 'onshore_wind_existing'].copy(),\n",
    "                                                      genX_zone_col='Zone')\n",
    "\n",
    "df_genX_onshore_existing = wu.generate_onshore_wind_sites(df_genX_onshore_existing)\n",
    "\n",
    "# TGW climate data\n",
    "climate_scenario = \"historical_1980_2019\"\n",
    "\n",
    "# climate_paths = np.sort(glob(f\"{pu.tgw_path}/{climate_scenario}/hourly/tgw_wrf_historical_hourly_*.nc\"))\n",
    "climate_paths = np.sort([glob(f\"{pu.tgw_path}/{climate_scenario}/hourly/tgw_wrf_historical_hourly_{year}*.nc\") \n",
    "                          for year in range(1980, 1981)]).flatten()\n",
    "\n",
    "# Stability coefficients\n",
    "stab_coef_file = f\"{pu.project_path}/data/wind/models/tgw_wind_stability_coefficients_2007-2007_every100.csv\"\n",
    "\n",
    "# Calculate the timeseries\n",
    "df_onshore_wind = wu.calculate_wind_timeseries_from_genX(\n",
    "    df_genX = df_genX_onshore_existing,\n",
    "    climate_paths = climate_paths,\n",
    "    stab_coef_file = stab_coef_file,\n",
    "    iec_curve = 'iec1',\n",
    ")"
   ]
  },
  {
   "cell_type": "code",
   "execution_count": 18,
   "id": "6004f1ac-2207-45de-b5d8-e9ac9653b13d",
   "metadata": {},
   "outputs": [
    {
     "data": {
      "image/png": "[encoded data removed]",
      "text/plain": [
       "<Figure size 640x480 with 1 Axes>"
      ]
     },
     "metadata": {},
     "output_type": "display_data"
    }
   ],
   "source": [
    "########################\n",
    "# Existing offshore wind\n",
    "########################\n",
    "### Generate sites\n",
    "# Read NYISO shapefile\n",
    "nyiso_gdf = gpd.read_file(f'{project_path}/data/nyiso/gis/NYISO_Load_Zone_Dissolved.shp')\n",
    "\n",
    "# Generate offshore locations\n",
    "df_genX_offshore_existing = pu.map_genX_zones_to_nyiso(df_genX[df_genX['Resource'] == 'offshore_wind'].copy(),\n",
    "                                                      genX_zone_col='Zone')\n",
    "\n",
    "df_genX_offshore_existing = wu.generate_offshore_wind_sites(df_genX_offshore_existing)\n",
    "\n",
    "# Check\n",
    "fig, ax = plt.subplots()\n",
    "nyiso_gdf[nyiso_gdf['zone'].isin(df_genX_offshore_existing['genX_zone'].unique())].plot(ax=ax)\n",
    "df_genX_offshore_existing.plot(ax=ax, color='orange')\n",
    "plt.show()\n",
    "\n",
    "# Generate timeseries\n",
    "# TGW climate data\n",
    "climate_scenario = \"historical_1980_2019\"\n",
    "\n",
    "# climate_paths = np.sort(glob(f\"{pu.tgw_path}/{climate_scenario}/hourly/tgw_wrf_historical_hourly_*.nc\"))\n",
    "climate_paths = np.sort([glob(f\"{pu.tgw_path}/{climate_scenario}/hourly/tgw_wrf_historical_hourly_{year}*.nc\") \n",
    "                          for year in range(1980, 1981)]).flatten()\n",
    "\n",
    "# Stability coefficients\n",
    "stab_coef_file = f\"{pu.project_path}/data/wind/models/tgw_wind_stability_coefficients_2007-2007_every100.csv\"\n",
    "\n",
    "# Calculate the timeseries\n",
    "df_offshore_wind = wu.calculate_wind_timeseries_from_genX(\n",
    "    df_genX = df_genX_offshore_existing,\n",
    "    climate_paths = climate_paths,\n",
    "    stab_coef_file = stab_coef_file,\n",
    "    iec_curve = 'offshore',\n",
    ")"
   ]
  },
  {
   "cell_type": "code",
   "execution_count": 22,
   "id": "254f5c26-d7c1-4751-bb74-964321675734",
   "metadata": {},
   "outputs": [],
   "source": [
    "# Combined wind\n",
    "df_wind_total = pd.concat([df_onshore_wind, df_offshore_wind])\n",
    "df_wind_total = df_wind_total.reset_index().groupby(['bus_id', 'datetime']).sum()\n",
    "\n",
    "# Store combined\n",
    "df_wind_total.reset_index().pivot(index='bus_id', \n",
    "                             columns='datetime', \n",
    "                             values='power_MW').to_csv(f\"{run_path}/inputs/wind_{climate_scenario}.csv\")"
   ]
  },
  {
   "cell_type": "markdown",
   "id": "b49393ed-2562-46cc-a53a-724b0d8f519f",
   "metadata": {},
   "source": [
    "### Load"
   ]
  },
  {
   "cell_type": "code",
   "execution_count": 227,
   "id": "9573c75a-d9df-4658-b8c3-95a5d808f422",
   "metadata": {},
   "outputs": [],
   "source": [
    "# Settings\n",
    "climate_scenario = \"historical_1980_2019\"\n",
    "resstock_mulitplier = 0.1"
   ]
  },
  {
   "cell_type": "code",
   "execution_count": 222,
   "id": "52018372-891a-4d36-915a-f0d336b7ab04",
   "metadata": {},
   "outputs": [],
   "source": [
    "# Read baseline\n",
    "df_baseline = pd.read_parquet(f\"../data/load/baseline/simulated/load_model_tgw_multizone_NN_{climate_scenario}.parquet\")\n",
    "df_baseline = df_baseline[df_baseline['datetime'].dt.year == 1980]\n",
    "df_baseline = df_baseline.groupby(['bus_id', 'datetime'])[['load_MW']].sum(numeric_only=True)"
   ]
  },
  {
   "cell_type": "code",
   "execution_count": 228,
   "id": "bdaaa697-39bd-4535-abbb-cf62e61aa9c5",
   "metadata": {},
   "outputs": [],
   "source": [
    "# Read ResStock\n",
    "upgrade = 1\n",
    "df_resstock = pd.concat([pd.read_parquet(f\"{project_path}/data/load/resstock/simulated/bus_level/{climate_scenario}_{upgrade}_{home_type}.parquet\") for home_type in building_types_dict['resstock']])\n",
    "df_resstock = df_resstock.reset_index()\n",
    "df_resstock = df_resstock[df_resstock['time'].dt.year == 1980]\n",
    "df_resstock = df_resstock.groupby(['bus_id','time']).sum() * resstock_mulitplier"
   ]
  },
  {
   "cell_type": "code",
   "execution_count": 224,
   "id": "98eb2d3a-8a58-4097-b6df-59bf2ee2c890",
   "metadata": {},
   "outputs": [],
   "source": [
    "# Read ComStock\n",
    "upgrade = 31\n",
    "df_comstock = pd.concat([pd.read_parquet(f\"{project_path}/data/load/comstock/simulated/bus_level/{climate_scenario}_{upgrade}_{home_type}.parquet\") for home_type in building_types_dict['comstock']])\n",
    "df_comstock = df_comstock.reset_index()\n",
    "df_comstock = df_comstock[df_comstock['time'].dt.year == 1980]\n",
    "df_comstock = df_comstock.groupby(['bus_id','time']).sum()"
   ]
  },
  {
   "cell_type": "code",
   "execution_count": 229,
   "id": "7976e110-c2d6-46d5-99c4-5329e4f5383d",
   "metadata": {},
   "outputs": [],
   "source": [
    "# Combine\n",
    "df_load = pd.concat([df_comstock.reset_index().rename(columns={'bus_load_MW':'load_MW', 'time':'datetime'}),\n",
    "                     df_resstock.reset_index().rename(columns={'bus_load_MW':'load_MW', 'time':'datetime'}),\n",
    "                     df_baseline.reset_index()]).groupby(['bus_id', 'datetime']).sum()"
   ]
  },
  {
   "cell_type": "code",
   "execution_count": 230,
   "id": "9cf0f4fa-ed39-4265-a9c8-4e8c2546c45a",
   "metadata": {},
   "outputs": [
    {
     "data": {
      "text/plain": [
       "<Axes: xlabel='datetime'>"
      ]
     },
     "execution_count": 230,
     "metadata": {},
     "output_type": "execute_result"
    },
    {
     "data": {
      "image/png": "[encoded data removed]",
      "text/plain": [
       "<Figure size 640x480 with 1 Axes>"
      ]
     },
     "metadata": {},
     "output_type": "display_data"
    }
   ],
   "source": [
    "df_load.groupby('datetime').sum().plot()"
   ]
  },
  {
   "cell_type": "code",
   "execution_count": 233,
   "id": "1fe5deb4-b367-4273-8900-55851e9806be",
   "metadata": {},
   "outputs": [],
   "source": [
    "# Store\n",
    "df_load.reset_index().pivot(index='bus_id', \n",
    "                            columns='datetime', \n",
    "                            values='load_MW').to_csv(f\"{run_path}/inputs/load_{climate_scenario}.csv\")"
   ]
  },
  {
   "cell_type": "code",
   "execution_count": null,
   "id": "b4ad4b7b-2321-434b-8896-027addc88950",
   "metadata": {},
   "outputs": [],
   "source": []
  }
 ],
 "metadata": {
  "kernelspec": {
   "display_name": "Python 3 (ipykernel)",
   "language": "python",
   "name": "python3"
  },
  "language_info": {
   "codemirror_mode": {
    "name": "ipython",
    "version": 3
   },
   "file_extension": ".py",
   "mimetype": "text/x-python",
   "name": "python",
   "nbconvert_exporter": "python",
   "pygments_lexer": "ipython3",
   "version": "3.12.8"
  }
 },
 "nbformat": 4,
 "nbformat_minor": 5
}
