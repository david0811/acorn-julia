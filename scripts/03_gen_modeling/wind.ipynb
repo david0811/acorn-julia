{
 "cells": [
  {
   "cell_type": "code",
   "execution_count": 1,
   "id": "56f872f0-bd77-4857-beee-b6ae46dcc3e4",
   "metadata": {},
   "outputs": [],
   "source": [
    "from glob import glob\n",
    "\n",
    "import numpy as np\n",
    "import xarray as xr\n",
    "import salem\n",
    "import pandas as pd\n",
    "import geopandas as gpd\n",
    "\n",
    "import matplotlib.pyplot as plt\n",
    "\n",
    "from python import wind_utils as wu\n",
    "from python import utils as pu"
   ]
  },
  {
   "cell_type": "code",
   "execution_count": 2,
   "id": "df80a21c-cd46-4ea4-9464-aaf0506fffc8",
   "metadata": {},
   "outputs": [],
   "source": [
    "month_names = [\"Jan\", \"Feb\", \"Mar\", \"Apr\", \"May\", \"Jun\", \"Jul\", \"Aug\", \"Sep\", \"Oct\", \"Nov\", \"Dec\"]"
   ]
  },
  {
   "cell_type": "code",
   "execution_count": 4,
   "id": "f5440c0e-85c8-4dad-bfd7-030ae8d78c1b",
   "metadata": {},
   "outputs": [
    {
     "data": {
      "text/plain": [
       "<module 'python.wind_utils' from '/home/fs01/dcl257/projects/acorn-julia/src/python/wind_utils.py'>"
      ]
     },
     "execution_count": 4,
     "metadata": {},
     "output_type": "execute_result"
    }
   ],
   "source": [
    "import importlib\n",
    "importlib.reload(wu)"
   ]
  },
  {
   "cell_type": "code",
   "execution_count": null,
   "id": "5b0922a6-214b-495c-916f-bb22e7f0d3c2",
   "metadata": {},
   "outputs": [],
   "source": [
    "%%time\n",
    "# Get TGW input solar data\n",
    "climate_paths = np.array([glob(f\"{pu.tgw_path}/historical_1980_2019/hourly/tgw_wrf_historical_hourly_{year}*.nc\") \n",
    "                          for year in range(2007, 2014)]).flatten()\n",
    "\n",
    "df = wu.prepare_wind_data(\n",
    "    climate_paths = climate_paths,\n",
    "    wind_vars = ['U10', 'V10'],\n",
    "    lat_name=\"south_north\",\n",
    "    lon_name=\"west_east\",\n",
    "    curvilinear=True,\n",
    ")"
   ]
  },
  {
   "cell_type": "code",
   "execution_count": null,
   "id": "915ac0ae-cca8-42f0-a7f1-adc9bb024076",
   "metadata": {},
   "outputs": [],
   "source": [
    "# Add in climate data windspeed\n",
    "df['ws'] = np.sqrt(df['U10']**2 + df['V10']**2)"
   ]
  },
  {
   "cell_type": "code",
   "execution_count": null,
   "id": "9f03dbe0-e480-405a-b920-ee0a1eb8288c",
   "metadata": {},
   "outputs": [],
   "source": [
    "# Compute the stability coefficients\n",
    "res = wu.get_stability_coefficients(df, 'ws', 'wtk_ws').reset_index()"
   ]
  },
  {
   "cell_type": "code",
   "execution_count": null,
   "id": "dcc25c3f-88a3-4eeb-a5f8-78bbf9edab50",
   "metadata": {},
   "outputs": [],
   "source": [
    "# Plot the stability coefficients\n",
    "fig, axs = plt.subplots(3, 4, figsize=(10,8), layout='tight', sharey=True, sharex=True)\n",
    "axs = axs.flatten()\n",
    "\n",
    "for month in range(1,13):\n",
    "    ax = axs[month-1]\n",
    "    res[res['month'] == month].plot(x='hour', y='alpha', legend=False, ax=ax)\n",
    "    ax.set_title(month_names[month-1])\n",
    "\n",
    "plt.show()"
   ]
  },
  {
   "cell_type": "code",
   "execution_count": null,
   "id": "1c00e676-3cb7-4cd1-94da-4b886c1e379e",
   "metadata": {},
   "outputs": [],
   "source": [
    "# Merge and plot results\n",
    "df = pd.merge(df, res, on =['hour', 'month'])\n",
    "df['ws_corrected'] = df['ws'] * (100/10)**df['alpha']"
   ]
  },
  {
   "cell_type": "code",
   "execution_count": null,
   "id": "f0f2c888-c165-4b87-8343-a7f62093e8f4",
   "metadata": {},
   "outputs": [],
   "source": [
    "latlons = df[['wtk_lat', 'wtk_lon']].value_counts().index.unique()"
   ]
  },
  {
   "cell_type": "code",
   "execution_count": null,
   "id": "30e88ea6-4960-47b4-af47-8545b0da517c",
   "metadata": {},
   "outputs": [],
   "source": [
    "# Plot the stability coefficients\n",
    "fig, axs = plt.subplots(3, 4, figsize=(10,8), layout='tight', sharey=True, sharex=True)\n",
    "axs = axs.flatten()\n",
    "\n",
    "for month in range(1,13):\n",
    "    ax = axs[month-1]\n",
    "    df_tmp = df[df['month'] == month]\n",
    "    \n",
    "    df_tmp.plot.scatter(x='ws_corrected', y='wtk_ws', legend=False, ax=ax)\n",
    "\n",
    "    # Add fit info\n",
    "    r2 = (np.corrcoef(df_tmp.dropna()['ws_corrected'], df_tmp.dropna()['wtk_ws'])[0, 1]** 2)\n",
    "    rmse = np.sqrt(np.mean((df_tmp.dropna()['ws_corrected'] - df_tmp.dropna()['wtk_ws']) ** 2))\n",
    "    # Add 1:1 line\n",
    "    ax.plot([0, 1], [0, 1], transform=ax.transAxes, ls=\"--\", color=\"black\")\n",
    "\n",
    "    ax.set_title(f\"{month_names[month-1]} (R$^2$: {r2:.2f}, RMSE: {rmse:.2f})\")\n",
    "    ax.grid(alpha=0.5)\n",
    "    ax.set_xlabel(\"\")\n",
    "    ax.set_ylabel(\"\")\n",
    "\n",
    "fig.supylabel('WTK wind [m/s]')\n",
    "fig.supxlabel('TGW wind [m/s]')\n",
    "\n",
    "plt.show()"
   ]
  },
  {
   "cell_type": "code",
   "execution_count": null,
   "id": "f63dac3d-8be6-4a7f-989d-4bd253e0c179",
   "metadata": {},
   "outputs": [],
   "source": []
  }
 ],
 "metadata": {
  "kernelspec": {
   "display_name": "Python 3 (ipykernel)",
   "language": "python",
   "name": "python3"
  },
  "language_info": {
   "codemirror_mode": {
    "name": "ipython",
    "version": 3
   },
   "file_extension": ".py",
   "mimetype": "text/x-python",
   "name": "python",
   "nbconvert_exporter": "python",
   "pygments_lexer": "ipython3",
   "version": "3.12.8"
  }
 },
 "nbformat": 4,
 "nbformat_minor": 5
}
