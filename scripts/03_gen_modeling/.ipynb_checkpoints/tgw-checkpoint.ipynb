{
 "cells": [
  {
   "cell_type": "code",
   "execution_count": 1,
   "id": "5424fd01-a31f-4288-919f-2d62cce18b3d",
   "metadata": {},
   "outputs": [],
   "source": [
    "import numpy as np\n",
    "import xarray as xr\n",
    "\n",
    "import python_utils as pu"
   ]
  },
  {
   "cell_type": "code",
   "execution_count": null,
   "id": "b7bba067-c5aa-458d-b225-9fd99ddeb28a",
   "metadata": {},
   "outputs": [],
   "source": [
    "############\n",
    "### Dask ###\n",
    "############\n",
    "from dask.distributed import LocalCluster\n",
    "cluster = LocalCluster(n_workers = 10)\n",
    "client = cluster.get_client()\n",
    "client"
   ]
  },
  {
   "cell_type": "markdown",
   "id": "b7d58aab-960c-4bcc-9ff4-19fbaebfad4b",
   "metadata": {},
   "source": [
    "## Solar"
   ]
  },
  {
   "cell_type": "code",
   "execution_count": 5,
   "id": "6e08c61b-5c96-416a-9cc3-c661630edec2",
   "metadata": {},
   "outputs": [],
   "source": [
    "# Read 2006 only\n",
    "ds = xr.open_mfdataset(f\"{pu.tgw_path}/historical_1980_2019/hourly/tgw_wrf_historical_hourly_2006-*.nc\",\n",
    "                      preprocess=pu._preprocess_tgw)"
   ]
  },
  {
   "cell_type": "code",
   "execution_count": null,
   "id": "6e090c59-f40f-499b-9bf5-8c6a5ee588eb",
   "metadata": {},
   "outputs": [],
   "source": [
    "# Load desired variable\n",
    "ds = ds[['GLW']].load()"
   ]
  },
  {
   "cell_type": "code",
   "execution_count": null,
   "id": "01b935de-b42a-4b21-83e5-07ec4cac3642",
   "metadata": {},
   "outputs": [],
   "source": [
    "# Compute the absolute difference\n",
    "target_lat = 41.55\n",
    "target_lon = -74.15\n",
    "\n",
    "distance = np.sqrt((ds.XLAT - target_lat) ** 2 + (ds.XLONG - target_lon) ** 2)\n",
    "\n",
    "# Find the index of the minimum distance\n",
    "min_idx = distance.argmin(dim=[\"south_north\", \"west_east\"])\n",
    "\n",
    "# Select the corresponding data\n",
    "ds_selected = ds.isel(south_north=min_idx['south_north'], west_east=min_idx['west_east'])\n",
    "\n",
    "ds_selected['GLW'].plot()"
   ]
  },
  {
   "cell_type": "code",
   "execution_count": null,
   "id": "e1bf61ce-de16-4c20-a1cf-ac157c026143",
   "metadata": {},
   "outputs": [],
   "source": []
  }
 ],
 "metadata": {
  "kernelspec": {
   "display_name": "Python 3 (ipykernel)",
   "language": "python",
   "name": "python3"
  },
  "language_info": {
   "codemirror_mode": {
    "name": "ipython",
    "version": 3
   },
   "file_extension": ".py",
   "mimetype": "text/x-python",
   "name": "python",
   "nbconvert_exporter": "python",
   "pygments_lexer": "ipython3",
   "version": "3.12.8"
  }
 },
 "nbformat": 4,
 "nbformat_minor": 5
}
