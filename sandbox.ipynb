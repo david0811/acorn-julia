{
 "cells": [
  {
   "cell_type": "code",
   "execution_count": 3,
   "metadata": {},
   "outputs": [],
   "source": [
    "using CSV\n",
    "using DataFrames\n",
    "using Plots"
   ]
  },
  {
   "cell_type": "code",
   "execution_count": 4,
   "metadata": {},
   "outputs": [],
   "source": [
    "include(\"./src/utils.jl\");"
   ]
  },
  {
   "cell_type": "code",
   "execution_count": 5,
   "metadata": {},
   "outputs": [],
   "source": [
    "scenario = 11\n",
    "year = 1998\n",
    "gen_prop_name = \"vivienne_2050\"\n",
    "bus_prop_name = \"vivienne_2050\"\n",
    "branch_prop_name = \"vivienne_2050\"\n",
    "out_path = \"./out/\";"
   ]
  },
  {
   "cell_type": "code",
   "execution_count": 98,
   "metadata": {},
   "outputs": [],
   "source": [
    "# function print_full_model(model, filename)\n",
    "#     open(filename, \"w\") do f\n",
    "#         # Print objective\n",
    "#         println(f, \"Objective: \", objective_function(model))\n",
    "        \n",
    "#         # Print all constraints\n",
    "#         for (F, S) in list_of_constraint_types(model)\n",
    "#             for con in all_constraints(model, F, S)\n",
    "#                 println(f, con)\n",
    "#             end\n",
    "#         end\n",
    "#     end\n",
    "# end\n",
    "\n",
    "# # Usage\n",
    "# print_full_model(model, \"model.txt\")"
   ]
  },
  {
   "cell_type": "code",
   "execution_count": 97,
   "metadata": {},
   "outputs": [],
   "source": [
    "# df = CSV.read(\"data/grid/npcc_new.csv\", DataFrame);\n",
    "\n",
    "# plot(df.xcoord, df.ycoord, \n",
    "#     zcolor = df.busIdx,\n",
    "#     seriestype = :scatter,\n",
    "#     markersize=5,\n",
    "#     color = palette(:heat, size(df)[1]))"
   ]
  },
  {
   "cell_type": "code",
   "execution_count": null,
   "metadata": {},
   "outputs": [],
   "source": []
  }
 ],
 "metadata": {
  "kernelspec": {
   "display_name": "Julia 1.11.1",
   "language": "julia",
   "name": "julia-1.11"
  },
  "language_info": {
   "file_extension": ".jl",
   "mimetype": "application/julia",
   "name": "julia",
   "version": "1.11.1"
  }
 },
 "nbformat": 4,
 "nbformat_minor": 2
}
