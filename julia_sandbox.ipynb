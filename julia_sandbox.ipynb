{
 "cells": [
  {
   "cell_type": "code",
   "execution_count": 1,
   "metadata": {},
   "outputs": [],
   "source": [
    "using CSV\n",
    "using DataFrames\n",
    "using Dates\n",
    "using Plots"
   ]
  },
  {
   "cell_type": "code",
   "execution_count": 17,
   "metadata": {},
   "outputs": [],
   "source": [
    "include(\"./src/julia/utils.jl\");"
   ]
  },
  {
   "cell_type": "code",
   "execution_count": 29,
   "metadata": {},
   "outputs": [],
   "source": [
    "# Specify run directory\n",
    "run_name = \"low_RE_high_elec_iter0_default\";\n",
    "run_directory = \"/home/fs01/dcl257/projects/acorn-julia/runs/$(run_name)\";\n",
    "\n",
    "# Prohject data directory\n",
    "data_directory = \"/home/fs01/dcl257/projects/acorn-julia/data\";"
   ]
  },
  {
   "cell_type": "code",
   "execution_count": 15,
   "metadata": {},
   "outputs": [],
   "source": [
    "# Read the load\n",
    "climate_scenario = \"historical_1980_2019\"\n",
    "load = CSV.read(\"$(run_directory)/inputs/load_$(climate_scenario).csv\", DataFrame);\n",
    "\n",
    "# Read generation\n",
    "solar_upv = CSV.read(\"$(run_directory)/inputs/solar_upv_$(climate_scenario).csv\", DataFrame);\n",
    "wind = CSV.read(\"$(run_directory)/inputs/wind_$(climate_scenario).csv\", DataFrame);\n",
    "solar_dpv = CSV.read(\"$(run_directory)/inputs/solar_dpv_$(climate_scenario).csv\", DataFrame);\n",
    "\n",
    "# Read hydro\n",
    "hydro_scenario = \"historical\"\n",
    "large_hydro = CSV.read(\"$(run_directory)/inputs/large_hydro_$(hydro_scenario).csv\", DataFrame);\n",
    "small_hydro = CSV.read(\"$(run_directory)/inputs/small_hydro_$(hydro_scenario).csv\", DataFrame);\n",
    "\n",
    "# Read storage\n",
    "storage = CSV.read(\"$(run_directory)/inputs/storage_assignment.csv\", DataFrame);"
   ]
  },
  {
   "cell_type": "code",
   "execution_count": 30,
   "metadata": {},
   "outputs": [],
   "source": [
    "# Read generators\n",
    "genprop_nuclear = CSV.read(\"$(run_directory)/inputs/genprop_nuclear_matched.csv\", DataFrame);\n",
    "genprop_ng = CSV.read(\"$(run_directory)/inputs/genprop_NG_matched.csv\", DataFrame);\n",
    "genprop = vcat(genprop_nuclear, genprop_ng);\n",
    "\n",
    "# Read bus data\n",
    "busprop_name = \"liu_etal_2024\"\n",
    "busprop = CSV.read(\"$(data_directory)/grid/bus_prop_$(busprop_name).csv\", DataFrame);\n",
    "\n",
    "# Read branch data\n",
    "branchprop_name = \"liu_etal_2024\"\n",
    "branchprop = CSV.read(\"$(data_directory)/grid/branch_prop_$(branchprop_name).csv\", DataFrame);"
   ]
  },
  {
   "cell_type": "code",
   "execution_count": null,
   "metadata": {},
   "outputs": [],
   "source": []
  }
 ],
 "metadata": {
  "kernelspec": {
   "display_name": "Julia 1.11.5",
   "language": "julia",
   "name": "julia-1.11"
  },
  "language_info": {
   "file_extension": ".jl",
   "mimetype": "application/julia",
   "name": "julia",
   "version": "1.11.5"
  }
 },
 "nbformat": 4,
 "nbformat_minor": 2
}
