{
 "cells": [
  {
   "cell_type": "code",
   "execution_count": 36,
   "metadata": {},
   "outputs": [],
   "source": [
    "include(\"./src/dcopf.jl\");"
   ]
  },
  {
   "cell_type": "code",
   "execution_count": 37,
   "metadata": {},
   "outputs": [
    {
     "name": "stdout",
     "output_type": "stream",
     "text": [
      "0.94675\n"
     ]
    },
    {
     "ename": "InexactError",
     "evalue": "InexactError: Int64(Inf)",
     "output_type": "error",
     "traceback": [
      "InexactError: Int64(Inf)\n",
      "\n",
      "Stacktrace:\n",
      " [1] Int64\n",
      "   @ ./float.jl:994 [inlined]\n",
      " [2] convert\n",
      "   @ ./number.jl:7 [inlined]\n",
      " [3] fill!\n",
      "   @ ./multidimensional.jl:1142 [inlined]\n",
      " [4] copyto!\n",
      "   @ ./broadcast.jl:928 [inlined]\n",
      " [5] materialize!\n",
      "   @ ./broadcast.jl:878 [inlined]\n",
      " [6] materialize!(dest::SubArray{Int64, 1, Vector{Int64}, Tuple{Vector{Int64}}, false}, bc::Base.Broadcast.Broadcasted{Base.Broadcast.DefaultArrayStyle{0}, Nothing, typeof(identity), Tuple{Float64}})\n",
      "   @ Base.Broadcast ./broadcast.jl:875\n",
      " [7] run_model(scenario::Int64, year::Int64, gen_prop_name::String, branch_prop_name::String, bus_prop_name::String, out_path::String)\n",
      "   @ Main ~/Projects/current_projects/nys-clcpa-2050/src/dcopf.jl:97\n",
      " [8] top-level scope\n",
      "   @ ~/Projects/current_projects/nys-clcpa-2050/jl_notebook_cell_df34fa98e69747e1a8f8a730347b8e2f_W0sZmlsZQ==.jl:8"
     ]
    }
   ],
   "source": [
    "scenario = 211\n",
    "year = 1998\n",
    "gen_prop_name = \"vivienne_2050\"\n",
    "bus_prop_name = \"vivienne_2050\"\n",
    "branch_prop_name = \"vivienne_2050\"\n",
    "out_path = \"./out/\"\n",
    "\n",
    "run_model(scenario, year, gen_prop_name, branch_prop_name, bus_prop_name, out_path)"
   ]
  },
  {
   "cell_type": "code",
   "execution_count": null,
   "metadata": {},
   "outputs": [],
   "source": []
  }
 ],
 "metadata": {
  "kernelspec": {
   "display_name": "Julia 1.11.1",
   "language": "julia",
   "name": "julia-1.11"
  },
  "language_info": {
   "file_extension": ".jl",
   "mimetype": "application/julia",
   "name": "julia",
   "version": "1.11.1"
  }
 },
 "nbformat": 4,
 "nbformat_minor": 2
}
